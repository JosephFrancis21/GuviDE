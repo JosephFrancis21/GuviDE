{
 "cells": [
  {
   "cell_type": "code",
   "execution_count": 5,
   "metadata": {},
   "outputs": [
    {
     "ename": "NameError",
     "evalue": "name 'mysql' is not defined",
     "output_type": "error",
     "traceback": [
      "\u001b[1;31m---------------------------------------------------------------------------\u001b[0m",
      "\u001b[1;31mNameError\u001b[0m                                 Traceback (most recent call last)",
      "Cell \u001b[1;32mIn[5], line 1\u001b[0m\n\u001b[1;32m----> 1\u001b[0m connection \u001b[38;5;241m=\u001b[39m \u001b[43mmysql\u001b[49m\u001b[38;5;241m.\u001b[39mconnector\u001b[38;5;241m.\u001b[39mconnect(\n\u001b[0;32m      2\u001b[0m   host \u001b[38;5;241m=\u001b[39m \u001b[38;5;124m\"\u001b[39m\u001b[38;5;124mgateway01.ap-southeast-1.prod.aws.tidbcloud.com\u001b[39m\u001b[38;5;124m\"\u001b[39m,\n\u001b[0;32m      3\u001b[0m   port \u001b[38;5;241m=\u001b[39m \u001b[38;5;241m4000\u001b[39m,\n\u001b[0;32m      4\u001b[0m   user \u001b[38;5;241m=\u001b[39m \u001b[38;5;124m\"\u001b[39m\u001b[38;5;124m3GNYKqCbbJtp9c2.root\u001b[39m\u001b[38;5;124m\"\u001b[39m,\n\u001b[0;32m      5\u001b[0m   password \u001b[38;5;241m=\u001b[39m \u001b[38;5;124m\"\u001b[39m\u001b[38;5;124mXQYbmm6hIa6n0Hwg\u001b[39m\u001b[38;5;124m\"\u001b[39m,\n\u001b[0;32m      6\u001b[0m   database \u001b[38;5;241m=\u001b[39m \u001b[38;5;124m\"\u001b[39m\u001b[38;5;124mFirstDatabase\u001b[39m\u001b[38;5;124m\"\u001b[39m,\n\u001b[0;32m      7\u001b[0m )\n\u001b[0;32m      9\u001b[0m \u001b[38;5;28;01mif\u001b[39;00m connection\u001b[38;5;241m.\u001b[39mis_connected():\n\u001b[0;32m     10\u001b[0m     \u001b[38;5;28mprint\u001b[39m(\u001b[38;5;124m\"\u001b[39m\u001b[38;5;124mConnection successful\u001b[39m\u001b[38;5;124m\"\u001b[39m)\n",
      "\u001b[1;31mNameError\u001b[0m: name 'mysql' is not defined"
     ]
    }
   ],
   "source": [
    "connection = mysql.connector.connect(\n",
    "  host = \"gateway01.ap-southeast-1.prod.aws.tidbcloud.com\",\n",
    "  port = 4000,\n",
    "  user = \"3GNYKqCbbJtp9c2.root\",\n",
    "  password = \"XQYbmm6hIa6n0Hwg\",\n",
    "  database = \"FirstDatabase\",\n",
    ")\n",
    "\n",
    "if connection.is_connected():\n",
    "    print(\"Connection successful\")\n",
    "    # connection.close()\n",
    "    # print(\"Connection closed\")\n",
    "else:\n",
    "    print(\"Connection Failed\")"
   ]
  },
  {
   "cell_type": "code",
   "execution_count": 2,
   "metadata": {},
   "outputs": [
    {
     "name": "stdout",
     "output_type": "stream",
     "text": [
      "Requirement already satisfied: mysql-connector-python in c:\\users\\dell\\appdata\\local\\programs\\python\\python312\\lib\\site-packages (9.1.0)\n"
     ]
    }
   ],
   "source": [
    "!pip install mysql-connector-python"
   ]
  },
  {
   "cell_type": "code",
   "execution_count": 14,
   "metadata": {},
   "outputs": [
    {
     "name": "stdout",
     "output_type": "stream",
     "text": [
      "Connection successful\n"
     ]
    }
   ],
   "source": [
    "import mysql.connector\n",
    "\n",
    "connection = mysql.connector.connect(\n",
    "  host = \"gateway01.ap-southeast-1.prod.aws.tidbcloud.com\",\n",
    "  port = 4000,\n",
    "  user = \"3GNYKqCbbJtp9c2.root\",\n",
    "  password = \"XQYbmm6hIa6n0Hwg\",\n",
    "  database = \"FirstDatabase\",\n",
    ")\n",
    "\n",
    "if connection.is_connected():\n",
    "    print(\"Connection successful\")\n",
    "    #connection.close()\n",
    "    #print(\"Connection closed\")\n",
    "else:\n",
    "    print(\"Connection Failed\")\n",
    "\n",
    "mycursor= connection.cursor()"
   ]
  },
  {
   "cell_type": "code",
   "execution_count": 17,
   "metadata": {},
   "outputs": [
    {
     "name": "stdout",
     "output_type": "stream",
     "text": [
      "Collecting tabulate\n",
      "  Downloading tabulate-0.9.0-py3-none-any.whl.metadata (34 kB)\n",
      "Downloading tabulate-0.9.0-py3-none-any.whl (35 kB)\n",
      "Installing collected packages: tabulate\n",
      "Successfully installed tabulate-0.9.0\n"
     ]
    }
   ],
   "source": [
    "!pip install tabulate"
   ]
  },
  {
   "cell_type": "code",
   "execution_count": 18,
   "metadata": {},
   "outputs": [
    {
     "name": "stdout",
     "output_type": "stream",
     "text": [
      "+----+-----------+-----------------+-----------+-------+\n",
      "|    |   glucose |   bloodpressure |   outcome |   age |\n",
      "|----+-----------+-----------------+-----------+-------|\n",
      "|  0 |       177 |              60 |         1 |    21 |\n",
      "|  1 |       142 |              86 |         1 |    22 |\n",
      "|  2 |       139 |              54 |         1 |    22 |\n",
      "|  3 |       113 |              64 |         1 |    21 |\n",
      "|  4 |       131 |              66 |         1 |    22 |\n",
      "|  5 |       138 |              60 |         1 |    21 |\n",
      "|  6 |       173 |              84 |         1 |    22 |\n",
      "|  7 |       104 |              64 |         1 |    22 |\n",
      "|  8 |       118 |              80 |         1 |    21 |\n",
      "|  9 |       151 |              90 |         1 |    21 |\n",
      "| 10 |       188 |              82 |         1 |    22 |\n",
      "| 11 |       181 |              78 |         1 |    22 |\n",
      "| 12 |       179 |              50 |         1 |    22 |\n",
      "| 13 |       199 |              76 |         1 |    22 |\n",
      "| 14 |       120 |              86 |         1 |    22 |\n",
      "| 15 |       136 |              70 |         1 |    22 |\n",
      "+----+-----------+-----------------+-----------+-------+\n"
     ]
    }
   ],
   "source": [
    "mycursor.execute(\"select glucose, bloodpressure, outcome, age from FirstDatabase.DiabetesData where outcome = 1 and age <=22\" )\n",
    "out = mycursor.fetchall()\n",
    "from tabulate import tabulate\n",
    "print(tabulate(out, headers=[i[0] for i in mycursor.description], showindex=\"always\", tablefmt='psql'))"
   ]
  }
 ],
 "metadata": {
  "kernelspec": {
   "display_name": "Python 3",
   "language": "python",
   "name": "python3"
  },
  "language_info": {
   "codemirror_mode": {
    "name": "ipython",
    "version": 3
   },
   "file_extension": ".py",
   "mimetype": "text/x-python",
   "name": "python",
   "nbconvert_exporter": "python",
   "pygments_lexer": "ipython3",
   "version": "3.12.5"
  }
 },
 "nbformat": 4,
 "nbformat_minor": 2
}
