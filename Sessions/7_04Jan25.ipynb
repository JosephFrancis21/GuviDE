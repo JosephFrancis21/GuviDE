{
 "cells": [
  {
   "cell_type": "code",
   "execution_count": 1,
   "metadata": {},
   "outputs": [
    {
     "name": "stdout",
     "output_type": "stream",
     "text": [
      "Connection successful\n"
     ]
    }
   ],
   "source": [
    "import mysql.connector\n",
    "\n",
    "connection = mysql.connector.connect(\n",
    "  host = \"gateway01.ap-southeast-1.prod.aws.tidbcloud.com\",\n",
    "  port = 4000,\n",
    "  user = \"3GNYKqCbbJtp9c2.root\",\n",
    "  password = \"XQYbmm6hIa6n0Hwg\",\n",
    "  database = \"FirstDatabase\",\n",
    ")\n",
    "\n",
    "if connection.is_connected():\n",
    "    print(\"Connection successful\")\n",
    "    #connection.close()\n",
    "    #print(\"Connection closed\")\n",
    "else:\n",
    "    print(\"Connection Failed\")\n",
    "\n",
    "mycursor= connection.cursor()"
   ]
  },
  {
   "cell_type": "code",
   "execution_count": 2,
   "metadata": {},
   "outputs": [
    {
     "name": "stdout",
     "output_type": "stream",
     "text": [
      "('INFORMATION_SCHEMA',)\n",
      "('FirstDatabase',)\n",
      "('PERFORMANCE_SCHEMA',)\n",
      "('mysql',)\n",
      "('test',)\n"
     ]
    }
   ],
   "source": [
    "mycursor.execute(\"show databases\")\n",
    "for x in mycursor:\n",
    "    print(x)\n",
    "# print(list(mycursor.execute(\"show databases\")))"
   ]
  },
  {
   "cell_type": "code",
   "execution_count": 3,
   "metadata": {},
   "outputs": [],
   "source": [
    "mycursor.execute(\"CREATE TABLE FirstDatabase.aadhardetails (name VARCHAR(30),ADDRESS VARCHAR(20),AADHARID INTEGER PRIMARY KEY)\")"
   ]
  },
  {
   "cell_type": "code",
   "execution_count": 6,
   "metadata": {},
   "outputs": [],
   "source": [
    "mycursor.execute(\"INSERT INTO FirstDatabase.aadhardetails (name,address,aadharid) VALUES('Nirmal','coimbatore',123456789)\")\n",
    "connection.commit()"
   ]
  },
  {
   "cell_type": "code",
   "execution_count": null,
   "metadata": {},
   "outputs": [],
   "source": [
    "query = \"INSERT INTO FirstDatabase.aadhardetails (name,address,aadharid) VALUES(%s, %s, %s)\"\n"
   ]
  },
  {
   "cell_type": "code",
   "execution_count": 17,
   "metadata": {},
   "outputs": [
    {
     "name": "stdout",
     "output_type": "stream",
     "text": [
      "+----+---------+------------+------------+\n",
      "|    | name    | ADDRESS    |   AADHARID |\n",
      "|----+---------+------------+------------|\n",
      "|  0 | nethaji | coimbatore |   12345678 |\n",
      "|  1 | Nirmal  | coimbatore |  123456789 |\n",
      "+----+---------+------------+------------+\n"
     ]
    }
   ],
   "source": [
    "mycursor.execute(\"\"\" \n",
    "select * from FirstDatabase.aadhardetails\n",
    "\"\"\")\n",
    "out = mycursor.fetchall()\n",
    "from tabulate import tabulate\n",
    "print(tabulate(out, headers=[i[0] for i in mycursor.description], showindex=\"always\", tablefmt='psql'))"
   ]
  },
  {
   "cell_type": "code",
   "execution_count": 10,
   "metadata": {},
   "outputs": [],
   "source": [
    "mycursor.execute(\"\"\"CREATE TABLE FirstDatabase.BankAccount\n",
    "                 (Name VARCHAR(20),\n",
    "                 type VARCHAR(2),\n",
    "                 accno INT PRIMARY KEY,\n",
    "                 aadhar INT ,\n",
    "                 FOREIGN KEY (aadhar) REFERENCES FirstDatabase.aadhardetails(aadharid))\"\"\")"
   ]
  },
  {
   "cell_type": "code",
   "execution_count": 21,
   "metadata": {},
   "outputs": [],
   "source": [
    "mycursor.execute(\"\"\"INSERT INTO FirstDatabase.BankAccount \n",
    "                 (name,type,accno,aadhar) \n",
    "                 VALUES('Nirmal','SA',12445678,123456789)\"\"\")\n",
    "connection.commit()"
   ]
  },
  {
   "cell_type": "code",
   "execution_count": 22,
   "metadata": {},
   "outputs": [
    {
     "name": "stdout",
     "output_type": "stream",
     "text": [
      "+----+---------+--------+----------+-----------+\n",
      "|    | Name    | type   |    accno |    aadhar |\n",
      "|----+---------+--------+----------+-----------|\n",
      "|  0 | nethaji | Rd     |   124455 |  12345678 |\n",
      "|  1 | nethaji | Rd     |   124456 |  12345678 |\n",
      "|  2 | nethaji | Rd     |  1244567 |  12345678 |\n",
      "|  3 | Nirmal  | Rd     |  1244568 | 123456789 |\n",
      "|  4 | Nirmal  | Rd     | 12445677 | 123456789 |\n",
      "|  5 | Nirmal  | SA     | 12445678 | 123456789 |\n",
      "+----+---------+--------+----------+-----------+\n"
     ]
    }
   ],
   "source": [
    "mycursor.execute(\"\"\" \n",
    "select * from FirstDatabase.BankAccount\n",
    "\"\"\")\n",
    "out = mycursor.fetchall()\n",
    "from tabulate import tabulate\n",
    "print(tabulate(out, headers=[i[0] for i in mycursor.description], showindex=\"always\", tablefmt='psql'))"
   ]
  },
  {
   "cell_type": "code",
   "execution_count": 25,
   "metadata": {},
   "outputs": [
    {
     "name": "stdout",
     "output_type": "stream",
     "text": [
      "+----+--------------+--------------------+----------+--------------+-------------+\n",
      "|    |   project_id | project_name       |   emp_id | start_date   | status      |\n",
      "|----+--------------+--------------------+----------+--------------+-------------|\n",
      "|  0 |            1 | Website Redesign   |        1 | 2024-01-15   | In Progress |\n",
      "|  1 |            2 | Mobile App         |        2 | 2024-02-01   | Planning    |\n",
      "|  2 |            3 | Database Migration |        3 | 2024-01-10   | Completed   |\n",
      "|  3 |            4 | Security Audit     |        4 | 2024-03-01   | In Progress |\n",
      "|  4 |            5 | Cloud Migration    |        1 | 2024-02-15   | Planning    |\n",
      "|  5 |            6 | AI Implementation  |        5 | 2024-01-20   | On Hold     |\n",
      "|  6 |            7 | CRM Update         |        7 | 2024-02-10   | In Progress |\n",
      "|  7 |            8 | Network Upgrade    |        8 | 2024-03-05   | Planning    |\n",
      "|  8 |            9 | Data Analytics     |        9 | 2024-01-05   | Completed   |\n",
      "|  9 |           10 | DevOps Pipeline    |        3 | 2024-02-20   | In Progress |\n",
      "+----+--------------+--------------------+----------+--------------+-------------+\n"
     ]
    }
   ],
   "source": [
    "mycursor.execute(\"\"\" \n",
    "select * from SecondDB.projects\n",
    "\"\"\")\n",
    "out = mycursor.fetchall()\n",
    "from tabulate import tabulate\n",
    "print(tabulate(out, headers=[i[0] for i in mycursor.description], showindex=\"always\", tablefmt='psql'))"
   ]
  },
  {
   "cell_type": "code",
   "execution_count": 33,
   "metadata": {},
   "outputs": [
    {
     "ename": "DataError",
     "evalue": "1136 (21S01): Column count doesn't match value count at row 1",
     "output_type": "error",
     "traceback": [
      "\u001b[1;31m---------------------------------------------------------------------------\u001b[0m",
      "\u001b[1;31mMySQLInterfaceError\u001b[0m                       Traceback (most recent call last)",
      "File \u001b[1;32mc:\\Users\\Dell\\AppData\\Local\\Programs\\Python\\Python312\\Lib\\site-packages\\mysql\\connector\\connection_cext.py:706\u001b[0m, in \u001b[0;36mCMySQLConnection.cmd_query\u001b[1;34m(self, query, raw, buffered, raw_as_string)\u001b[0m\n\u001b[0;32m    705\u001b[0m         query \u001b[38;5;241m=\u001b[39m query\u001b[38;5;241m.\u001b[39mencode(\u001b[38;5;124m\"\u001b[39m\u001b[38;5;124mutf-8\u001b[39m\u001b[38;5;124m\"\u001b[39m)\n\u001b[1;32m--> 706\u001b[0m     \u001b[38;5;28;43mself\u001b[39;49m\u001b[38;5;241;43m.\u001b[39;49m\u001b[43m_cmysql\u001b[49m\u001b[38;5;241;43m.\u001b[39;49m\u001b[43mquery\u001b[49m\u001b[43m(\u001b[49m\n\u001b[0;32m    707\u001b[0m \u001b[43m        \u001b[49m\u001b[43mquery\u001b[49m\u001b[43m,\u001b[49m\n\u001b[0;32m    708\u001b[0m \u001b[43m        \u001b[49m\u001b[43mraw\u001b[49m\u001b[38;5;241;43m=\u001b[39;49m\u001b[43mraw\u001b[49m\u001b[43m,\u001b[49m\n\u001b[0;32m    709\u001b[0m \u001b[43m        \u001b[49m\u001b[43mbuffered\u001b[49m\u001b[38;5;241;43m=\u001b[39;49m\u001b[43mbuffered\u001b[49m\u001b[43m,\u001b[49m\n\u001b[0;32m    710\u001b[0m \u001b[43m        \u001b[49m\u001b[43mraw_as_string\u001b[49m\u001b[38;5;241;43m=\u001b[39;49m\u001b[43mraw_as_string\u001b[49m\u001b[43m,\u001b[49m\n\u001b[0;32m    711\u001b[0m \u001b[43m        \u001b[49m\u001b[43mquery_attrs\u001b[49m\u001b[38;5;241;43m=\u001b[39;49m\u001b[38;5;28;43mself\u001b[39;49m\u001b[38;5;241;43m.\u001b[39;49m\u001b[43mquery_attrs\u001b[49m\u001b[43m,\u001b[49m\n\u001b[0;32m    712\u001b[0m \u001b[43m    \u001b[49m\u001b[43m)\u001b[49m\n\u001b[0;32m    713\u001b[0m \u001b[38;5;28;01mexcept\u001b[39;00m MySQLInterfaceError \u001b[38;5;28;01mas\u001b[39;00m err:\n",
      "\u001b[1;31mMySQLInterfaceError\u001b[0m: Column count doesn't match value count at row 1",
      "\nThe above exception was the direct cause of the following exception:\n",
      "\u001b[1;31mDataError\u001b[0m                                 Traceback (most recent call last)",
      "Cell \u001b[1;32mIn[33], line 1\u001b[0m\n\u001b[1;32m----> 1\u001b[0m \u001b[43mmycursor\u001b[49m\u001b[38;5;241;43m.\u001b[39;49m\u001b[43mexecute\u001b[49m\u001b[43m(\u001b[49m\u001b[38;5;124;43m\"\"\"\u001b[39;49m\u001b[38;5;124;43m \u001b[39;49m\n\u001b[0;32m      2\u001b[0m \u001b[38;5;124;43minsert into SecondDB.employees (emp_id, first_name, last_name, salary) VALUES\u001b[39;49m\n\u001b[0;32m      3\u001b[0m \u001b[38;5;124;43m(1, \u001b[39;49m\u001b[38;5;124;43m'\u001b[39;49m\u001b[38;5;124;43mJohnny\u001b[39;49m\u001b[38;5;124;43m'\u001b[39;49m\u001b[38;5;124;43m, \u001b[39;49m\u001b[38;5;124;43m'\u001b[39;49m\u001b[38;5;124;43mSmith\u001b[39;49m\u001b[38;5;124;43m'\u001b[39;49m\u001b[38;5;124;43m, 1, 50000.00)\u001b[39;49m\n\u001b[0;32m      4\u001b[0m \u001b[38;5;124;43m\"\"\"\u001b[39;49m\u001b[43m)\u001b[49m\n",
      "File \u001b[1;32mc:\\Users\\Dell\\AppData\\Local\\Programs\\Python\\Python312\\Lib\\site-packages\\mysql\\connector\\cursor_cext.py:357\u001b[0m, in \u001b[0;36mCMySQLCursor.execute\u001b[1;34m(self, operation, params, multi)\u001b[0m\n\u001b[0;32m    352\u001b[0m             \u001b[38;5;28;01mraise\u001b[39;00m ProgrammingError(\n\u001b[0;32m    353\u001b[0m                 \u001b[38;5;124m\"\u001b[39m\u001b[38;5;124mNot all parameters were used in the SQL statement\u001b[39m\u001b[38;5;124m\"\u001b[39m\n\u001b[0;32m    354\u001b[0m             )\n\u001b[0;32m    356\u001b[0m \u001b[38;5;28;01mtry\u001b[39;00m:\n\u001b[1;32m--> 357\u001b[0m     result \u001b[38;5;241m=\u001b[39m \u001b[38;5;28;43mself\u001b[39;49m\u001b[38;5;241;43m.\u001b[39;49m\u001b[43m_connection\u001b[49m\u001b[38;5;241;43m.\u001b[39;49m\u001b[43mcmd_query\u001b[49m\u001b[43m(\u001b[49m\n\u001b[0;32m    358\u001b[0m \u001b[43m        \u001b[49m\u001b[43mstmt\u001b[49m\u001b[43m,\u001b[49m\n\u001b[0;32m    359\u001b[0m \u001b[43m        \u001b[49m\u001b[43mraw\u001b[49m\u001b[38;5;241;43m=\u001b[39;49m\u001b[38;5;28;43mself\u001b[39;49m\u001b[38;5;241;43m.\u001b[39;49m\u001b[43m_raw\u001b[49m\u001b[43m,\u001b[49m\n\u001b[0;32m    360\u001b[0m \u001b[43m        \u001b[49m\u001b[43mbuffered\u001b[49m\u001b[38;5;241;43m=\u001b[39;49m\u001b[38;5;28;43mself\u001b[39;49m\u001b[38;5;241;43m.\u001b[39;49m\u001b[43m_buffered\u001b[49m\u001b[43m,\u001b[49m\n\u001b[0;32m    361\u001b[0m \u001b[43m        \u001b[49m\u001b[43mraw_as_string\u001b[49m\u001b[38;5;241;43m=\u001b[39;49m\u001b[38;5;28;43mself\u001b[39;49m\u001b[38;5;241;43m.\u001b[39;49m\u001b[43m_raw_as_string\u001b[49m\u001b[43m,\u001b[49m\n\u001b[0;32m    362\u001b[0m \u001b[43m    \u001b[49m\u001b[43m)\u001b[49m\n\u001b[0;32m    363\u001b[0m \u001b[38;5;28;01mexcept\u001b[39;00m MySQLInterfaceError \u001b[38;5;28;01mas\u001b[39;00m err:\n\u001b[0;32m    364\u001b[0m     \u001b[38;5;28;01mraise\u001b[39;00m get_mysql_exception(\n\u001b[0;32m    365\u001b[0m         msg\u001b[38;5;241m=\u001b[39merr\u001b[38;5;241m.\u001b[39mmsg, errno\u001b[38;5;241m=\u001b[39merr\u001b[38;5;241m.\u001b[39merrno, sqlstate\u001b[38;5;241m=\u001b[39merr\u001b[38;5;241m.\u001b[39msqlstate\n\u001b[0;32m    366\u001b[0m     ) \u001b[38;5;28;01mfrom\u001b[39;00m \u001b[38;5;21;01merr\u001b[39;00m\n",
      "File \u001b[1;32mc:\\Users\\Dell\\AppData\\Local\\Programs\\Python\\Python312\\Lib\\site-packages\\mysql\\connector\\opentelemetry\\context_propagation.py:97\u001b[0m, in \u001b[0;36mwith_context_propagation.<locals>.wrapper\u001b[1;34m(cnx, *args, **kwargs)\u001b[0m\n\u001b[0;32m     95\u001b[0m \u001b[38;5;66;03m# pylint: disable=possibly-used-before-assignment\u001b[39;00m\n\u001b[0;32m     96\u001b[0m \u001b[38;5;28;01mif\u001b[39;00m \u001b[38;5;129;01mnot\u001b[39;00m OTEL_ENABLED \u001b[38;5;129;01mor\u001b[39;00m \u001b[38;5;129;01mnot\u001b[39;00m cnx\u001b[38;5;241m.\u001b[39motel_context_propagation:\n\u001b[1;32m---> 97\u001b[0m     \u001b[38;5;28;01mreturn\u001b[39;00m \u001b[43mmethod\u001b[49m\u001b[43m(\u001b[49m\u001b[43mcnx\u001b[49m\u001b[43m,\u001b[49m\u001b[43m \u001b[49m\u001b[38;5;241;43m*\u001b[39;49m\u001b[43margs\u001b[49m\u001b[43m,\u001b[49m\u001b[43m \u001b[49m\u001b[38;5;241;43m*\u001b[39;49m\u001b[38;5;241;43m*\u001b[39;49m\u001b[43mkwargs\u001b[49m\u001b[43m)\u001b[49m\n\u001b[0;32m     99\u001b[0m current_span \u001b[38;5;241m=\u001b[39m trace\u001b[38;5;241m.\u001b[39mget_current_span()\n\u001b[0;32m    100\u001b[0m tp_header \u001b[38;5;241m=\u001b[39m \u001b[38;5;28;01mNone\u001b[39;00m\n",
      "File \u001b[1;32mc:\\Users\\Dell\\AppData\\Local\\Programs\\Python\\Python312\\Lib\\site-packages\\mysql\\connector\\connection_cext.py:714\u001b[0m, in \u001b[0;36mCMySQLConnection.cmd_query\u001b[1;34m(self, query, raw, buffered, raw_as_string)\u001b[0m\n\u001b[0;32m    706\u001b[0m     \u001b[38;5;28mself\u001b[39m\u001b[38;5;241m.\u001b[39m_cmysql\u001b[38;5;241m.\u001b[39mquery(\n\u001b[0;32m    707\u001b[0m         query,\n\u001b[0;32m    708\u001b[0m         raw\u001b[38;5;241m=\u001b[39mraw,\n\u001b[1;32m   (...)\u001b[0m\n\u001b[0;32m    711\u001b[0m         query_attrs\u001b[38;5;241m=\u001b[39m\u001b[38;5;28mself\u001b[39m\u001b[38;5;241m.\u001b[39mquery_attrs,\n\u001b[0;32m    712\u001b[0m     )\n\u001b[0;32m    713\u001b[0m \u001b[38;5;28;01mexcept\u001b[39;00m MySQLInterfaceError \u001b[38;5;28;01mas\u001b[39;00m err:\n\u001b[1;32m--> 714\u001b[0m     \u001b[38;5;28;01mraise\u001b[39;00m get_mysql_exception(\n\u001b[0;32m    715\u001b[0m         err\u001b[38;5;241m.\u001b[39merrno, msg\u001b[38;5;241m=\u001b[39merr\u001b[38;5;241m.\u001b[39mmsg, sqlstate\u001b[38;5;241m=\u001b[39merr\u001b[38;5;241m.\u001b[39msqlstate\n\u001b[0;32m    716\u001b[0m     ) \u001b[38;5;28;01mfrom\u001b[39;00m \u001b[38;5;21;01merr\u001b[39;00m\n\u001b[0;32m    717\u001b[0m \u001b[38;5;28;01mexcept\u001b[39;00m \u001b[38;5;167;01mAttributeError\u001b[39;00m \u001b[38;5;28;01mas\u001b[39;00m err:\n\u001b[0;32m    718\u001b[0m     addr \u001b[38;5;241m=\u001b[39m (\n\u001b[0;32m    719\u001b[0m         \u001b[38;5;28mself\u001b[39m\u001b[38;5;241m.\u001b[39m_unix_socket \u001b[38;5;28;01mif\u001b[39;00m \u001b[38;5;28mself\u001b[39m\u001b[38;5;241m.\u001b[39m_unix_socket \u001b[38;5;28;01melse\u001b[39;00m \u001b[38;5;124mf\u001b[39m\u001b[38;5;124m\"\u001b[39m\u001b[38;5;132;01m{\u001b[39;00m\u001b[38;5;28mself\u001b[39m\u001b[38;5;241m.\u001b[39m_host\u001b[38;5;132;01m}\u001b[39;00m\u001b[38;5;124m:\u001b[39m\u001b[38;5;132;01m{\u001b[39;00m\u001b[38;5;28mself\u001b[39m\u001b[38;5;241m.\u001b[39m_port\u001b[38;5;132;01m}\u001b[39;00m\u001b[38;5;124m\"\u001b[39m\n\u001b[0;32m    720\u001b[0m     )\n",
      "\u001b[1;31mDataError\u001b[0m: 1136 (21S01): Column count doesn't match value count at row 1"
     ]
    }
   ],
   "source": [
    "mycursor.execute(\"\"\" \n",
    "insert into SecondDB.employees (emp_id, first_name, last_name, salary) VALUES\n",
    "(1, 'Johnny', 'Smith', 1, 50000.00)\n",
    "\"\"\")"
   ]
  },
  {
   "cell_type": "code",
   "execution_count": 26,
   "metadata": {},
   "outputs": [
    {
     "name": "stdout",
     "output_type": "stream",
     "text": [
      "+----+----------+--------------+-------------+-----------------+----------+\n",
      "|    |   emp_id | first_name   | last_name   |   department_id |   salary |\n",
      "|----+----------+--------------+-------------+-----------------+----------|\n",
      "|  0 |        1 | John         | Smith       |               1 |    50000 |\n",
      "|  1 |        2 | Sarah        | Johnson     |               2 |    62000 |\n",
      "|  2 |        3 | Michael      | Brown       |               1 |    55000 |\n",
      "|  3 |        4 | Emily        | Davis       |               3 |    48000 |\n",
      "|  4 |        5 | David        | Wilson      |               2 |    61000 |\n",
      "|  5 |        6 | Lisa         | Anderson    |               4 |    53000 |\n",
      "|  6 |        7 | James        | Taylor      |               1 |    54000 |\n",
      "|  7 |        8 | Emma         | Martinez    |               2 |    59000 |\n",
      "|  8 |        9 | Daniel       | Thomas      |               3 |    51000 |\n",
      "|  9 |       10 | Jessica      | Garcia      |               5 |    57000 |\n",
      "+----+----------+--------------+-------------+-----------------+----------+\n"
     ]
    }
   ],
   "source": [
    "mycursor.execute(\"\"\" \n",
    "select * from SecondDB.employees\n",
    "\"\"\")\n",
    "out = mycursor.fetchall()\n",
    "from tabulate import tabulate\n",
    "print(tabulate(out, headers=[i[0] for i in mycursor.description], showindex=\"always\", tablefmt='psql'))"
   ]
  },
  {
   "cell_type": "code",
   "execution_count": 8,
   "metadata": {},
   "outputs": [
    {
     "name": "stdout",
     "output_type": "stream",
     "text": [
      "+----+-----------------+-------------------+---------------+----------+\n",
      "|    |   department_id | department_name   | location      |   budget |\n",
      "|----+-----------------+-------------------+---------------+----------|\n",
      "|  0 |               1 | IT                | New York      |   500000 |\n",
      "|  1 |               2 | Marketing         | Los Angeles   |   400000 |\n",
      "|  2 |               3 | Finance           | Chicago       |   450000 |\n",
      "|  3 |               4 | HR                | Boston        |   300000 |\n",
      "|  4 |               5 | Sales             | Miami         |   550000 |\n",
      "|  5 |               6 | Research          | Seattle       |   600000 |\n",
      "|  6 |               7 | Operations        | Denver        |   350000 |\n",
      "|  7 |               8 | Legal             | Washington DC |   425000 |\n",
      "|  8 |               9 | Support           | Austin        |   275000 |\n",
      "|  9 |              10 | Development       | San Francisco |   700000 |\n",
      "+----+-----------------+-------------------+---------------+----------+\n"
     ]
    }
   ],
   "source": [
    "mycursor.execute(\"\"\" \n",
    "select * from SecondDB.departments\n",
    "\"\"\")\n",
    "out = mycursor.fetchall()\n",
    "from tabulate import tabulate\n",
    "print(tabulate(out, headers=[i[0] for i in mycursor.description], showindex=\"always\", tablefmt='psql'))"
   ]
  },
  {
   "cell_type": "code",
   "execution_count": 32,
   "metadata": {},
   "outputs": [
    {
     "name": "stdout",
     "output_type": "stream",
     "text": [
      "+----+--------------+-------------+-------------------+-----------------+\n",
      "|    | first_name   | last_name   | department_name   |   department_id |\n",
      "|----+--------------+-------------+-------------------+-----------------|\n",
      "|  0 | John         | Smith       | IT                |               1 |\n",
      "|  1 | Sarah        | Johnson     | Marketing         |               2 |\n",
      "|  2 | Michael      | Brown       | IT                |               1 |\n",
      "|  3 | Emily        | Davis       | Finance           |               3 |\n",
      "|  4 | David        | Wilson      | Marketing         |               2 |\n",
      "|  5 | Lisa         | Anderson    | HR                |               4 |\n",
      "|  6 | James        | Taylor      | IT                |               1 |\n",
      "|  7 | Emma         | Martinez    | Marketing         |               2 |\n",
      "|  8 | Daniel       | Thomas      | Finance           |               3 |\n",
      "|  9 | Jessica      | Garcia      | Sales             |               5 |\n",
      "+----+--------------+-------------+-------------------+-----------------+\n"
     ]
    }
   ],
   "source": [
    "mycursor.execute(\"\"\" SELECT \n",
    "                 e.first_name, e.last_name, d.department_name, d.department_id\n",
    "                FROM SecondDB.employees e\n",
    "                inner JOIN SecondDB.departments d ON e.department_id = d.department_id;\"\"\")\n",
    "out = mycursor.fetchall()\n",
    "from tabulate import tabulate\n",
    "print(tabulate(out, headers=[i[0] for i in mycursor.description], showindex=\"always\", tablefmt='psql'))\n"
   ]
  },
  {
   "cell_type": "code",
   "execution_count": 6,
   "metadata": {},
   "outputs": [
    {
     "name": "stdout",
     "output_type": "stream",
     "text": [
      "+----+--------------+-------------+-------------------+----------+\n",
      "|    | first_name   | last_name   | department_name   |   salary |\n",
      "|----+--------------+-------------+-------------------+----------|\n",
      "|  0 | Sarah        | Johnson     | Marketing         |    62000 |\n",
      "|  1 | David        | Wilson      | Marketing         |    61000 |\n",
      "|  2 | Emma         | Martinez    | Marketing         |    59000 |\n",
      "|  3 | Jessica      | Garcia      | Sales             |    57000 |\n",
      "|  4 | Michael      | Brown       | IT                |    55000 |\n",
      "|  5 | James        | Taylor      | IT                |    54000 |\n",
      "|  6 | Lisa         | Anderson    | HR                |    53000 |\n",
      "|  7 | Daniel       | Thomas      | Finance           |    51000 |\n",
      "|  8 | John         | Smith       | IT                |    50000 |\n",
      "|  9 | Emily        | Davis       | Finance           |    48000 |\n",
      "+----+--------------+-------------+-------------------+----------+\n"
     ]
    }
   ],
   "source": [
    "mycursor.execute(\"\"\"\n",
    "                 SELECT e.first_name, e.last_name, d.department_name, e.salary\n",
    "                FROM SecondDB.employees e\n",
    "                left JOIN SecondDB.departments d ON e.department_id = d.department_id\n",
    "                 order by e.salary desc\"\"\")\n",
    "out = mycursor.fetchall()\n",
    "from tabulate import tabulate\n",
    "print(tabulate(out, headers=[i[0] for i in mycursor.description], showindex=\"always\", tablefmt='psql'))\n"
   ]
  },
  {
   "cell_type": "code",
   "execution_count": 10,
   "metadata": {},
   "outputs": [],
   "source": [
    "mycursor.execute('use SecondDB')"
   ]
  },
  {
   "cell_type": "code",
   "execution_count": 11,
   "metadata": {},
   "outputs": [
    {
     "name": "stdout",
     "output_type": "stream",
     "text": [
      "+----+--------------+-------------+-------------------+--------------------+-------------+\n",
      "|    | first_name   | last_name   | department_name   | project_name       | status      |\n",
      "|----+--------------+-------------+-------------------+--------------------+-------------|\n",
      "|  0 | John         | Smith       | IT                | Cloud Migration    | Planning    |\n",
      "|  1 | John         | Smith       | IT                | Website Redesign   | In Progress |\n",
      "|  2 | Sarah        | Johnson     | Marketing         | Mobile App         | Planning    |\n",
      "|  3 | Michael      | Brown       | IT                | DevOps Pipeline    | In Progress |\n",
      "|  4 | Michael      | Brown       | IT                | Database Migration | Completed   |\n",
      "|  5 | Emily        | Davis       | Finance           | Security Audit     | In Progress |\n",
      "|  6 | David        | Wilson      | Marketing         | AI Implementation  | On Hold     |\n",
      "|  7 | Lisa         | Anderson    | HR                |                    |             |\n",
      "|  8 | James        | Taylor      | IT                | CRM Update         | In Progress |\n",
      "|  9 | Emma         | Martinez    | Marketing         | Network Upgrade    | Planning    |\n",
      "| 10 | Daniel       | Thomas      | Finance           | Data Analytics     | Completed   |\n",
      "| 11 | Jessica      | Garcia      | Sales             |                    |             |\n",
      "+----+--------------+-------------+-------------------+--------------------+-------------+\n"
     ]
    }
   ],
   "source": [
    "mycursor.execute(\"\"\"\n",
    "                 SELECT e.first_name, e.last_name, d.department_name, p.project_name, p.status \n",
    "                 FROM employees e \n",
    "                 INNER JOIN departments d ON e.department_id = d.department_id \n",
    "                 LEFT JOIN projects p ON e.emp_id = p.emp_id;\"\"\")\n",
    "out = mycursor.fetchall()\n",
    "from tabulate import tabulate\n",
    "print(tabulate(out, headers=[i[0] for i in mycursor.description], showindex=\"always\", tablefmt='psql'))"
   ]
  },
  {
   "cell_type": "code",
   "execution_count": 15,
   "metadata": {},
   "outputs": [
    {
     "name": "stdout",
     "output_type": "stream",
     "text": [
      "+----+-------------------+------------------+--------------+\n",
      "|    | department_name   |   employee_count |   avg_salary |\n",
      "|----+-------------------+------------------+--------------|\n",
      "|  0 | Marketing         |                3 |      60666.7 |\n",
      "|  1 | Sales             |                1 |      57000   |\n",
      "|  2 | HR                |                1 |      53000   |\n",
      "|  3 | IT                |                3 |      53000   |\n",
      "|  4 | Finance           |                2 |      49500   |\n",
      "|  5 | Operations        |                0 |              |\n",
      "|  6 | Research          |                0 |              |\n",
      "|  7 | Legal             |                0 |              |\n",
      "|  8 | Development       |                0 |              |\n",
      "|  9 | Support           |                0 |              |\n",
      "+----+-------------------+------------------+--------------+\n"
     ]
    }
   ],
   "source": [
    "mycursor.execute(\"\"\"\n",
    "                SELECT d.department_name, COUNT(e.emp_id) as employee_count, AVG(e.salary) as avg_salary \n",
    "                 FROM departments d \n",
    "                 LEFT JOIN employees e ON d.department_id = e.department_id \n",
    "                 GROUP BY d.department_name\n",
    "                 order by avg_salary desc\n",
    "\"\"\")\n",
    "out = mycursor.fetchall()\n",
    "from tabulate import tabulate\n",
    "print(tabulate(out, headers=[i[0] for i in mycursor.description], showindex=\"always\", tablefmt='psql'))"
   ]
  },
  {
   "cell_type": "code",
   "execution_count": 16,
   "metadata": {},
   "outputs": [
    {
     "name": "stdout",
     "output_type": "stream",
     "text": [
      "+----+-------------+-------------+-------------------+\n",
      "|    | employee1   | employee2   | department_name   |\n",
      "|----+-------------+-------------+-------------------|\n",
      "|  0 | John        | James       | IT                |\n",
      "|  1 | John        | Michael     | IT                |\n",
      "|  2 | Sarah       | Emma        | Marketing         |\n",
      "|  3 | Sarah       | David       | Marketing         |\n",
      "|  4 | Michael     | James       | IT                |\n",
      "|  5 | Emily       | Daniel      | Finance           |\n",
      "|  6 | David       | Emma        | Marketing         |\n",
      "+----+-------------+-------------+-------------------+\n"
     ]
    }
   ],
   "source": [
    "mycursor.execute(\"\"\"\n",
    "                SELECT e1.first_name as employee1, e2.first_name as employee2, d.department_name \n",
    "                 FROM employees e1 \n",
    "                 INNER JOIN employees e2 ON e1.department_id = e2.department_id \n",
    "                 INNER JOIN departments d ON e1.department_id = d.department_id \n",
    "                 WHERE e1.emp_id < e2.emp_id;\n",
    "\n",
    "\"\"\")\n",
    "out = mycursor.fetchall()\n",
    "from tabulate import tabulate\n",
    "print(tabulate(out, headers=[i[0] for i in mycursor.description], showindex=\"always\", tablefmt='psql'))"
   ]
  }
 ],
 "metadata": {
  "kernelspec": {
   "display_name": "Python 3",
   "language": "python",
   "name": "python3"
  },
  "language_info": {
   "codemirror_mode": {
    "name": "ipython",
    "version": 3
   },
   "file_extension": ".py",
   "mimetype": "text/x-python",
   "name": "python",
   "nbconvert_exporter": "python",
   "pygments_lexer": "ipython3",
   "version": "3.12.5"
  }
 },
 "nbformat": 4,
 "nbformat_minor": 2
}
