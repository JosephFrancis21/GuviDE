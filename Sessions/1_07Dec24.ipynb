{
 "cells": [
  {
   "cell_type": "code",
   "execution_count": 1,
   "metadata": {},
   "outputs": [
    {
     "name": "stdout",
     "output_type": "stream",
     "text": [
      "30\n",
      "20\n"
     ]
    }
   ],
   "source": [
    "#Class and Object Creation\n",
    "class guvi():\n",
    "    def __init__(self):\n",
    "        pass\n",
    "\n",
    "    def add(self, a, b):\n",
    "        return a+b\n",
    "    \n",
    "    def sub(self, a, b):\n",
    "        return a-b\n",
    "\n",
    "s = guvi()\n",
    "print(s.add(10,20))\n",
    "print(s.sub(50,30))"
   ]
  },
  {
   "cell_type": "code",
   "execution_count": null,
   "metadata": {},
   "outputs": [],
   "source": [
    "class BankAccount():\n",
    "    def __init__(self, name, accno, balance=0):\n",
    "        self.name = name\n",
    "        self.accno = accno\n",
    "        self.balance = balance\n",
    "\n",
    "    def Deposit(self, amount):\n",
    "        self.balance = self.balance + amount\n",
    "        print(f\"{amount} credited to {self.name}'s account, bank balance is {self.balance}\")\n",
    "        #return self.balance\n",
    "    \n",
    "    def Withdraw(self, amount):\n",
    "        if(self.balance >= amount):\n",
    "            self.balance = self.balance - amount\n",
    "            print(f\"{amount} debited from {self.name}'s account, bank balance is {self.balance}\")\n",
    "            #return self.balance\n",
    "        else:\n",
    "            print(f\"Insufficient Balance, Bank Balance is {self.balance}\")\n",
    "    \n",
    "    def BankBalance(self):\n",
    "        print(f\"Account Holder Name : {self.name} \\nAccount No : {self.accno} \\nBalance : {self.balance}\")\n",
    "\n",
    "\n",
    "Joe = BankAccount(\"Joe\", 654321, 500)\n",
    "guvi = BankAccount(\"Guvi\", 987654)\n"
   ]
  },
  {
   "cell_type": "code",
   "execution_count": 22,
   "metadata": {},
   "outputs": [
    {
     "name": "stdout",
     "output_type": "stream",
     "text": [
      "500 credited to Joe's account, bank balance is 3500\n",
      "1000 credited to Guvi's account, bank balance is 6000\n"
     ]
    }
   ],
   "source": [
    "Joe.Deposit(500)\n",
    "guvi.Deposit(1000)"
   ]
  },
  {
   "cell_type": "code",
   "execution_count": 24,
   "metadata": {},
   "outputs": [
    {
     "name": "stdout",
     "output_type": "stream",
     "text": [
      "Account Holder Name : Joe \n",
      "Account No : 654321 \n",
      "Balance : 3500\n",
      "Account Holder Name : Guvi \n",
      "Account No : 987654 \n",
      "Balance : 6000\n"
     ]
    }
   ],
   "source": [
    "Joe.BankBalance()\n",
    "guvi.BankBalance()"
   ]
  },
  {
   "cell_type": "code",
   "execution_count": 40,
   "metadata": {},
   "outputs": [],
   "source": [
    "# Inheritance \n",
    "class Father():\n",
    "    def __init__(self):\n",
    "        self.name = \"Father\"\n",
    "    \n",
    "    def Nose(self):\n",
    "        return \"Pointed Nose\"\n",
    "    \n",
    "class Mother():\n",
    "    def __init__(self):\n",
    "        self.name = \"Mother\"\n",
    "\n",
    "    def Patience(self):\n",
    "        return \"Patience\"\n",
    "    \n",
    "# Single Inheritance\n",
    "class Son(Father):  # Inheritance from Father\n",
    "    def __init__(self):\n",
    "        super().__init__() # To initalize the parent or Super Class\n",
    "        self.name = \"Son\"\n",
    "    \n",
    "    def Hair(self):\n",
    "        return \"Black Hair\"\n",
    "    \n",
    "    def Nose(self):\n",
    "        return \"Blunt Nose\"\n",
    "\n",
    "# Multiple Inheritance\n",
    "class Daughter(Father, Mother):\n",
    "    def __init__(self):\n",
    "        super().__init__()\n",
    "        self.name = \"Daughter\"\n",
    "    \n",
    "    def Hair(self):\n",
    "        return \"Long Hair\"\n",
    "    \n",
    "# Multilevel Inheritance\n",
    "class GrandSon(Daughter):\n",
    "    def __init__(self):\n",
    "        self.name = \"Grandson\"\n",
    "    \n",
    "    def Eyes(self):\n",
    "        return \"Almond Eyes\""
   ]
  },
  {
   "cell_type": "code",
   "execution_count": 42,
   "metadata": {},
   "outputs": [
    {
     "name": "stdout",
     "output_type": "stream",
     "text": [
      "Long Hair\n",
      "Pointed Nose\n",
      "Patience\n",
      "Almond Eyes\n"
     ]
    }
   ],
   "source": [
    "a = GrandSon()\n",
    "print(a.Hair())\n",
    "print(a.Nose())\n",
    "print(a.Patience())\n",
    "print(a.Eyes())"
   ]
  },
  {
   "cell_type": "code",
   "execution_count": 43,
   "metadata": {},
   "outputs": [
    {
     "name": "stdout",
     "output_type": "stream",
     "text": [
      "Black Hair\n",
      "Blunt Nose\n"
     ]
    }
   ],
   "source": [
    "a = Son()\n",
    "print(a.Hair())\n",
    "print(a.Nose())"
   ]
  },
  {
   "cell_type": "code",
   "execution_count": 39,
   "metadata": {},
   "outputs": [
    {
     "name": "stdout",
     "output_type": "stream",
     "text": [
      "Long Hair\n",
      "Pointed Nose\n"
     ]
    }
   ],
   "source": [
    "import SampleInheritance as si\n",
    "\n",
    "a = si.GrandSon()\n",
    "print(a.Hair())\n",
    "print(a.Nose())"
   ]
  },
  {
   "cell_type": "code",
   "execution_count": 45,
   "metadata": {},
   "outputs": [],
   "source": [
    "class BankAccount():\n",
    "    def __init__(self, name, accno, balance=0):\n",
    "        self.name = name\n",
    "        self.accno = accno\n",
    "        self.__balance = balance\n",
    "\n",
    "    def Deposit(self, amount):\n",
    "        self.__balance += amount\n",
    "        print(f\"{amount} credited to {self.name}'s account, bank balance is {self.__balance}\")\n",
    "        #return self.balance\n",
    "    \n",
    "    def Withdraw(self, amount):\n",
    "        if(self.__balance > amount):\n",
    "            self.__balance -= amount\n",
    "            print(f\"{amount} debited from {self.name}'s account, bank balance is {self.__balance}\")\n",
    "            #return self.balance\n",
    "        else:\n",
    "            print(f\"Insufficient Balance, Bank Balance is {self.__balance}\")\n",
    "    \n",
    "    def GetBalance(self):\n",
    "        print(f\"Account Holder Name : {self.name} \\nAccount No : {self.accno} \\nBalance : {self.__balance}\")\n",
    "\n",
    "\n",
    "Joe = BankAccount(\"Joe\", 654321, 500)\n",
    "guvi = BankAccount(\"Guvi\", 987654)"
   ]
  },
  {
   "cell_type": "code",
   "execution_count": 52,
   "metadata": {},
   "outputs": [
    {
     "name": "stdout",
     "output_type": "stream",
     "text": [
      "1000 credited to Joe's account, bank balance is 4500\n"
     ]
    }
   ],
   "source": [
    "Joe.Deposit(1000)"
   ]
  },
  {
   "cell_type": "code",
   "execution_count": 56,
   "metadata": {},
   "outputs": [
    {
     "name": "stdout",
     "output_type": "stream",
     "text": [
      "Account Holder Name : Joe \n",
      "Account No : 654321 \n",
      "Balance : 4500\n"
     ]
    }
   ],
   "source": [
    "Joe.balance = 500000\n",
    "Joe.GetBalance()"
   ]
  },
  {
   "cell_type": "code",
   "execution_count": 58,
   "metadata": {},
   "outputs": [
    {
     "name": "stdout",
     "output_type": "stream",
     "text": [
      "^C\n"
     ]
    },
    {
     "name": "stdout",
     "output_type": "stream",
     "text": [
      "The current date is: 30-12-2024 \n",
      "Enter the new date: (dd-mm-yy) \n"
     ]
    }
   ],
   "source": [
    "!date"
   ]
  }
 ],
 "metadata": {
  "kernelspec": {
   "display_name": "Python 3",
   "language": "python",
   "name": "python3"
  },
  "language_info": {
   "codemirror_mode": {
    "name": "ipython",
    "version": 3
   },
   "file_extension": ".py",
   "mimetype": "text/x-python",
   "name": "python",
   "nbconvert_exporter": "python",
   "pygments_lexer": "ipython3",
   "version": "3.12.5"
  }
 },
 "nbformat": 4,
 "nbformat_minor": 2
}
