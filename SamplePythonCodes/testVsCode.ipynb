{
 "cells": [
  {
   "cell_type": "code",
   "execution_count": 24,
   "metadata": {},
   "outputs": [
    {
     "name": "stdout",
     "output_type": "stream",
     "text": [
      "123\n"
     ]
    }
   ],
   "source": [
    "print(123)"
   ]
  },
  {
   "cell_type": "markdown",
   "metadata": {},
   "source": []
  },
  {
   "cell_type": "code",
   "execution_count": 25,
   "metadata": {},
   "outputs": [
    {
     "name": "stdout",
     "output_type": "stream",
     "text": [
      "I am  \n"
     ]
    }
   ],
   "source": [
    "name = input(\"Enter you name \")\n",
    "age = int(input(\"Enter your age \"))\n",
    "print(\"I am \",name)"
   ]
  },
  {
   "cell_type": "code",
   "execution_count": null,
   "metadata": {},
   "outputs": [],
   "source": []
  },
  {
   "cell_type": "code",
   "execution_count": 26,
   "metadata": {},
   "outputs": [],
   "source": [
    "!pip freeze >requirem.txt"
   ]
  },
  {
   "cell_type": "code",
   "execution_count": 27,
   "metadata": {},
   "outputs": [
    {
     "name": "stdout",
     "output_type": "stream",
     "text": [
      "2 2 4 \n",
      "1 3 3 "
     ]
    }
   ],
   "source": [
    "userInput = input()\n",
    "no = list(userInput)\n",
    "#print(no)\n",
    "even = \"\"\n",
    "odd = \"\"\n",
    "for i in no:\n",
    "    if(int(i) % 2 == 0):\n",
    "        even = even + \" \" + f\"{i}\"\n",
    "    else:\n",
    "        odd = odd + \" \" + f\"{i}\"\n",
    "        \n",
    "e = even.split()\n",
    "o = odd.split()\n",
    "e.sort()\n",
    "o.sort()\n",
    "\n",
    "even = \"\"\n",
    "odd=\"\"\n",
    "\n",
    "\n",
    "for i in e:\n",
    "    print(f\"{i}\", end=\" \")\n",
    "\n",
    "print()\n",
    "for i in o:\n",
    "    print(f\"{i}\", end=\" \")\n"
   ]
  },
  {
   "cell_type": "code",
   "execution_count": 29,
   "metadata": {},
   "outputs": [
    {
     "name": "stdout",
     "output_type": "stream",
     "text": [
      "4 6 8\n",
      "3 7\n"
     ]
    }
   ],
   "source": [
    "# Input the integer as a string to easily handle each digit\n",
    "num = input()\n",
    "\n",
    "# Lists to store even and odd digits\n",
    "even_digits = []\n",
    "odd_digits = []\n",
    "\n",
    "# Iterate over each digit in the input number\n",
    "for digit in num:\n",
    "    # Convert the digit to an integer\n",
    "    num_digit = int(digit)\n",
    "        \n",
    "    # Check if the digit is even or odd\n",
    "    if num_digit % 2 == 0:\n",
    "        even_digits.append(digit)\n",
    "    else:\n",
    "        odd_digits.append(digit)\n",
    "\n",
    "even_digits.sort()\n",
    "odd_digits.sort()\n",
    "\n",
    "# Print the even digits in one line\n",
    "print(\" \".join(even_digits))\n",
    "\n",
    "# Print the odd digits in another line\n",
    "print(\" \".join(odd_digits))\n"
   ]
  },
  {
   "cell_type": "code",
   "execution_count": 42,
   "metadata": {},
   "outputs": [
    {
     "name": "stdout",
     "output_type": "stream",
     "text": [
      "-2.00\n",
      "-3.00\n"
     ]
    }
   ],
   "source": [
    "# X = {-b + √(b² - 4ac) } / 2a & {-b-√(b² -4ac)} / 2a\n",
    "import math\n",
    "\n",
    "\n",
    "userInput = input()\n",
    "splitInput = userInput.split()\n",
    "a = float(splitInput[0])\n",
    "b = float(splitInput[1])\n",
    "c = float(splitInput[2])\n",
    "discriminant = b**2 - 4*a*c\n",
    "\n",
    "X = (-b + math.sqrt(discriminant))/2*a\n",
    "Y = (-b - math.sqrt(discriminant))/2*a\n",
    "print(\"{:.2f}\".format(X))\n",
    "print(\"{:.2f}\".format(Y))"
   ]
  },
  {
   "cell_type": "code",
   "execution_count": 44,
   "metadata": {},
   "outputs": [
    {
     "name": "stdout",
     "output_type": "stream",
     "text": [
      "10\n",
      "9\n",
      "8\n",
      "7\n",
      "6\n",
      "5\n",
      "4\n",
      "3\n",
      "2\n",
      "1\n"
     ]
    }
   ],
   "source": [
    "#Getting input via STDIN\n",
    "userInput = int(input())\n",
    "\n",
    "\n",
    "for i in range (userInput,0,-1):\n",
    "    print(i)"
   ]
  },
  {
   "cell_type": "code",
   "execution_count": 47,
   "metadata": {},
   "outputs": [
    {
     "name": "stdout",
     "output_type": "stream",
     "text": [
      "IVUG\n"
     ]
    }
   ],
   "source": [
    "userInput = input()\n",
    "print(''.join(reversed(userInput)))"
   ]
  },
  {
   "cell_type": "code",
   "execution_count": null,
   "metadata": {},
   "outputs": [
    {
     "name": "stdout",
     "output_type": "stream",
     "text": [
      "1\n"
     ]
    }
   ],
   "source": [
    "import math\n",
    "userInput = input()\n",
    "a = userInput.split()\n",
    "\n",
    "print(math.gcd(int(a[0]), int(a[1])))"
   ]
  },
  {
   "cell_type": "code",
   "execution_count": 52,
   "metadata": {},
   "outputs": [
    {
     "name": "stdout",
     "output_type": "stream",
     "text": [
      "9\n"
     ]
    }
   ],
   "source": [
    "userInput = input()\n",
    "\n",
    "sum = 0\n",
    "for i in userInput:\n",
    "    sum = sum + int(i)\n",
    "\n",
    "print(sum)"
   ]
  },
  {
   "cell_type": "code",
   "execution_count": 53,
   "metadata": {},
   "outputs": [
    {
     "name": "stdout",
     "output_type": "stream",
     "text": [
      "55\n"
     ]
    }
   ],
   "source": [
    "userInput = int(input())\n",
    "\n",
    "sum = 0\n",
    "for i in range(1, userInput+1):\n",
    "    sum = sum + i\n",
    "\n",
    "print(sum)"
   ]
  },
  {
   "cell_type": "code",
   "execution_count": null,
   "metadata": {},
   "outputs": [],
   "source": [
    "userInput = int(input())\n",
    "\n",
    "sum = 0\n",
    "place = 0\n",
    "for i in range (1, userInput * 2 +1, 2):\n",
    "    sum = sum +i\n",
    "    place = place + 1\n",
    "    #print(sum)\n",
    "    #print(\" p\", place)\n",
    "\n",
    "    \n",
    "\n",
    "print(sum)"
   ]
  },
  {
   "cell_type": "code",
   "execution_count": 64,
   "metadata": {},
   "outputs": [
    {
     "name": "stdout",
     "output_type": "stream",
     "text": [
      "5->4->3->2->1\n"
     ]
    }
   ],
   "source": [
    "N = int(input())  # First input is the size of the list\n",
    "numbers = list(map(int, input().split()))  # Next input is the list of N numbers\n",
    "\n",
    "# Reverse the list\n",
    "reversed_numbers = numbers[::-1]\n",
    "\n",
    "# Print the reversed list in the required format\n",
    "print(\"->\".join(map(str, reversed_numbers)))"
   ]
  },
  {
   "cell_type": "code",
   "execution_count": null,
   "metadata": {},
   "outputs": [],
   "source": [
    "def calculate_trapped_water(arr):\n",
    "    n = len(arr)\n",
    "    \n",
    "    if n <= 2:\n",
    "        return 0  # No water can be trapped if there are less than 3 walls\n",
    "\n",
    "    # Step 1: Initialize left_max and right_max arrays\n",
    "    left_max = [0] * n\n",
    "    right_max = [0] * n\n",
    "\n",
    "    # Step 2: Fill the left_max array\n",
    "    left_max[0] = arr[0]\n",
    "    for i in range(1, n):\n",
    "        left_max[i] = max(left_max[i-1], arr[i])\n",
    "\n",
    "    # Step 3: Fill the right_max array\n",
    "    right_max[n-1] = arr[n-1]\n",
    "    for i in range(n-2, -1, -1):\n",
    "        right_max[i] = max(right_max[i+1], arr[i])\n",
    "\n",
    "    # Step 4: Calculate the total trapped water\n",
    "    total_water = 0\n",
    "    for i in range(n):\n",
    "        # The water trapped at index i is the difference between the minimum of left_max and right_max at i and the height at i\n",
    "        trapped_water = min(left_max[i], right_max[i]) - arr[i]\n",
    "        if trapped_water > 0:\n",
    "            total_water += trapped_water\n",
    "\n",
    "    return total_water\n",
    "\n",
    "# Input reading\n",
    "N = int(input())  # Size of the array\n",
    "arr = list(map(int, input().split()))  # The heights of the walls\n",
    "\n",
    "# Calculate and print the result\n",
    "result = calculate_trapped_water(arr)\n",
    "print(result)\n"
   ]
  },
  {
   "cell_type": "code",
   "execution_count": 75,
   "metadata": {},
   "outputs": [
    {
     "name": "stdout",
     "output_type": "stream",
     "text": [
      "10\n",
      "12\n",
      "12\n",
      "14\n",
      "14\n"
     ]
    }
   ],
   "source": [
    "x = 10\n",
    "\n",
    "def square():\n",
    "    global x # accessing the global variable\n",
    "    x=x+2\n",
    "    return x\n",
    "\n",
    "print(x)\n",
    "print(square())\n",
    "print(x)\n",
    "print(square())\n",
    "print(x)"
   ]
  },
  {
   "cell_type": "code",
   "execution_count": null,
   "metadata": {},
   "outputs": [
    {
     "name": "stdout",
     "output_type": "stream",
     "text": [
      "13\n"
     ]
    }
   ],
   "source": [
    "#lambda function\n",
    "add_lambda = lambda x, y: x + y\n",
    "\n",
    "print(add_lambda(10, 3))"
   ]
  },
  {
   "cell_type": "code",
   "execution_count": 78,
   "metadata": {},
   "outputs": [
    {
     "name": "stdout",
     "output_type": "stream",
     "text": [
      "20\n"
     ]
    }
   ],
   "source": [
    "# comprehensive Lambda function\n",
    "find_max = lambda a, b : a if a > b else b\n",
    "\n",
    "print(find_max(10, 20))"
   ]
  },
  {
   "cell_type": "code",
   "execution_count": 89,
   "metadata": {},
   "outputs": [
    {
     "name": "stdout",
     "output_type": "stream",
     "text": [
      "HelloWorld\n",
      "H->e->l->l->o-> ->W->o->r->l->d->"
     ]
    }
   ],
   "source": [
    "c = 'Hello World'\n",
    "d = c.split()\n",
    "print(''.join(d))\n",
    "\n",
    "for i in c:\n",
    "    print(i, end=\"->\")\n",
    "    #print(\"->\".join(i), end=\"\")"
   ]
  },
  {
   "cell_type": "code",
   "execution_count": 91,
   "metadata": {},
   "outputs": [
    {
     "ename": "ModuleNotFoundError",
     "evalue": "No module named 'pandas'",
     "output_type": "error",
     "traceback": [
      "\u001b[1;31m---------------------------------------------------------------------------\u001b[0m",
      "\u001b[1;31mModuleNotFoundError\u001b[0m                       Traceback (most recent call last)",
      "Cell \u001b[1;32mIn[91], line 1\u001b[0m\n\u001b[1;32m----> 1\u001b[0m \u001b[38;5;28;01mimport\u001b[39;00m \u001b[38;5;21;01mpandas\u001b[39;00m \u001b[38;5;28;01mas\u001b[39;00m \u001b[38;5;21;01mpd\u001b[39;00m\n\u001b[0;32m      3\u001b[0m data \u001b[38;5;241m=\u001b[39m {\u001b[38;5;124m\"\u001b[39m\u001b[38;5;124mcol1\u001b[39m\u001b[38;5;124m\"\u001b[39m:[\u001b[38;5;241m1\u001b[39m,\u001b[38;5;241m2\u001b[39m,\u001b[38;5;241m3\u001b[39m,\u001b[38;5;241m4\u001b[39m], \u001b[38;5;124m\"\u001b[39m\u001b[38;5;124mcol2\u001b[39m\u001b[38;5;124m\"\u001b[39m:[\u001b[38;5;241m10\u001b[39m,\u001b[38;5;241m20\u001b[39m,\u001b[38;5;241m30\u001b[39m,\u001b[38;5;241m40\u001b[39m]}\n\u001b[0;32m      4\u001b[0m df \u001b[38;5;241m=\u001b[39m pd\u001b[38;5;241m.\u001b[39mDataFrame(data)\n",
      "\u001b[1;31mModuleNotFoundError\u001b[0m: No module named 'pandas'"
     ]
    }
   ],
   "source": [
    "import pandas as pd\n",
    "\n",
    "data = {\"col1\":[1,2,3,4], \"col2\":[10,20,30,40]}\n",
    "df = pd.DataFrame(data)\n",
    "\n",
    "df['col3']  =df['col1'].apply(lambda x: x*x)\n",
    "\n",
    "df"
   ]
  },
  {
   "cell_type": "code",
   "execution_count": null,
   "metadata": {},
   "outputs": [
    {
     "name": "stdout",
     "output_type": "stream",
     "text": [
      "[11, 12, 43, 45, 60]\n"
     ]
    }
   ],
   "source": [
    "uf = [1,2,3,45, 5,11, 12, 43, 60]\n",
    "\n",
    "a = list(filter(lambda x : x > 10, uf)) # filter takes 2 argument function and \n",
    "a.sort()\n",
    "print(a)"
   ]
  },
  {
   "cell_type": "code",
   "execution_count": 96,
   "metadata": {},
   "outputs": [
    {
     "name": "stdout",
     "output_type": "stream",
     "text": [
      "[1, 4, 9, 2025, 25, 121, 144, 1849, 3600]\n"
     ]
    }
   ],
   "source": [
    "uf = [1,2,3,45, 5,11, 12, 43, 60]\n",
    "\n",
    "a = list(map(lambda x : x * x, uf)) # filter takes 2 argument function and \n",
    "#a.sort()\n",
    "print(a)"
   ]
  },
  {
   "cell_type": "code",
   "execution_count": 1,
   "metadata": {},
   "outputs": [
    {
     "name": "stdout",
     "output_type": "stream",
     "text": [
      "['apple', 'banana', 'grape', 'orange']\n"
     ]
    }
   ],
   "source": [
    "words = [\"orange\", \"apple\", \"banana\", \"grape\"]\n",
    "sorted_words = sorted(words)\n",
    "print(sorted_words)"
   ]
  }
 ],
 "metadata": {
  "kernelspec": {
   "display_name": "Python 3",
   "language": "python",
   "name": "python3"
  },
  "language_info": {
   "codemirror_mode": {
    "name": "ipython",
    "version": 3
   },
   "file_extension": ".py",
   "mimetype": "text/x-python",
   "name": "python",
   "nbconvert_exporter": "python",
   "pygments_lexer": "ipython3",
   "version": "3.12.5"
  }
 },
 "nbformat": 4,
 "nbformat_minor": 2
}
