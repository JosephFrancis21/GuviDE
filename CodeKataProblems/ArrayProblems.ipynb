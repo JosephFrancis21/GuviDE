{
 "cells": [
  {
   "cell_type": "code",
   "execution_count": null,
   "metadata": {},
   "outputs": [],
   "source": [
    "# Array Programming Problem 1\n",
    "def DifferenceIndex(inputArr):\n",
    "    min = int(inputArr[0])\n",
    "    max = int(inputArr[0])\n",
    "    \n",
    "    for i in inputArr:\n",
    "        if(int(i) > max):\n",
    "            max = int(i)\n",
    "        if(int(i) < min):\n",
    "            min = int(i)\n",
    "\n",
    "    print(inputArr.index(max) - inputArr.index(min))\n",
    "\n",
    "user_input = input()\n",
    "li = list(map(int, user_input.split()))\n",
    "#print(li)\n",
    "DifferenceIndex(li)"
   ]
  },
  {
   "cell_type": "code",
   "execution_count": null,
   "metadata": {},
   "outputs": [
    {
     "name": "stdout",
     "output_type": "stream",
     "text": [
      "0 1 0 1 0\n"
     ]
    }
   ],
   "source": [
    "# Array Programming Problem 2\n",
    "def MoreThanK(lenOfArr, k, inputArr):\n",
    "    newArr = []\n",
    "    i = 0\n",
    "    while i < lenOfArr+1:\n",
    "        \n",
    "        if(i < len(inputArr)-1):\n",
    "            if abs(inputArr[i] - inputArr[i+1]) <= k:\n",
    "                newArr.append(0)\n",
    "            else:\n",
    "                newArr.append(1)\n",
    "\n",
    "        if(i >= len(inputArr)):\n",
    "            if abs(inputArr[len(inputArr)-1] - inputArr[0]) > k:\n",
    "                 newArr.append(1)\n",
    "            else:\n",
    "                newArr.append(0)\n",
    "            break\n",
    "        i+=1\n",
    "\n",
    "    return newArr\n",
    "\n",
    "user_input_1 = input()\n",
    "user_input_2 = input()\n",
    "li_1 = list(map(int, user_input_1.split()))\n",
    "li_2 = list(map(int, user_input_2.split()))\n",
    "\n",
    "print(*MoreThanK(li_1[0], li_1[1], li_2))\n"
   ]
  },
  {
   "cell_type": "code",
   "execution_count": 52,
   "metadata": {},
   "outputs": [
    {
     "name": "stdout",
     "output_type": "stream",
     "text": [
      "90\n"
     ]
    }
   ],
   "source": [
    "l = [5,4,2,3,8]\n",
    "#print(l.index(3))\n",
    "a = 5+25+35-5+30\n",
    "\n",
    "print(a)"
   ]
  },
  {
   "cell_type": "code",
   "execution_count": 51,
   "metadata": {},
   "outputs": [
    {
     "name": "stdout",
     "output_type": "stream",
     "text": [
      "6000\n"
     ]
    }
   ],
   "source": [
    "def Savings(n):\n",
    "    saving = 0\n",
    "    for x in range(n+1):\n",
    "        saving += 1000\n",
    "\n",
    "    return saving\n",
    "\n",
    "print(Savings(int(input())))"
   ]
  },
  {
   "cell_type": "code",
   "execution_count": null,
   "metadata": {},
   "outputs": [
    {
     "name": "stdout",
     "output_type": "stream",
     "text": [
      "1\n"
     ]
    }
   ],
   "source": [
    "# Array Programming Problem 4\n",
    "def BeautifulArray(inputArr):\n",
    "    a = 0\n",
    "    for i in range(len(inputArr)):\n",
    "        a += inputArr[i]\n",
    "        \n",
    "\n",
    "   \n",
    "    if(a%2 == 0 and a%3 ==0 and a%5==0):\n",
    "        print(1)\n",
    "    else:\n",
    "        print(0)\n",
    "\n",
    "input()\n",
    "user_input = input()\n",
    "l1= list(map(int, user_input.split()))\n",
    "BeautifulArray(l1)\n",
    "\n"
   ]
  },
  {
   "cell_type": "code",
   "execution_count": null,
   "metadata": {},
   "outputs": [
    {
     "name": "stdout",
     "output_type": "stream",
     "text": [
      "deque([1, 2])\n",
      "-2 -2 -3 -4 -7\n"
     ]
    }
   ],
   "source": [
    "# Array Programming Problem 5\n",
    "from collections import deque\n",
    "\n",
    "def first_negative_in_window(arr, n, k):\n",
    "    # Deque to store indices of negative numbers in the current window\n",
    "    neg_indices = deque()\n",
    "    \n",
    "    # Iterate through the array\n",
    "    for i in range(k):\n",
    "        if arr[i] < 0:\n",
    "            neg_indices.append(i)\n",
    "    \n",
    "    # print(neg_indices)\n",
    "    # Output list to store the result for each window\n",
    "    result = []\n",
    "    \n",
    "    # Process the first window\n",
    "    for i in range(k, n):\n",
    "        # Print the first negative number for the current window\n",
    "        if neg_indices:\n",
    "            result.append(arr[neg_indices[0]])\n",
    "        else:\n",
    "            result.append(0)\n",
    "        \n",
    "        # Remove elements that are out of the current window\n",
    "        while neg_indices and neg_indices[0] <= i - k:\n",
    "            neg_indices.popleft()\n",
    "        \n",
    "        # Add the current element if it is negative\n",
    "        if arr[i] < 0:\n",
    "            neg_indices.append(i)\n",
    "    \n",
    "    # Print the first negative number for the last window\n",
    "    if neg_indices:\n",
    "        result.append(arr[neg_indices[0]])\n",
    "    else:\n",
    "        result.append(0)\n",
    "    \n",
    "    # Print the result\n",
    "    print(\" \".join(map(str, result)))\n",
    "\n",
    "\n",
    "# Input Reading\n",
    "n = int(input())  # Size of the array\n",
    "arr = list(map(int, input().split()))  # Array elements\n",
    "k = int(input())  # Window size\n",
    "\n",
    "# Call the function\n",
    "first_negative_in_window(arr, n, k)"
   ]
  },
  {
   "cell_type": "code",
   "execution_count": null,
   "metadata": {},
   "outputs": [
    {
     "name": "stdout",
     "output_type": "stream",
     "text": [
      "[1, 2]\n",
      "-2 -2 -3 -4 -7\n"
     ]
    }
   ],
   "source": [
    "# Array Programming Problem 5\n",
    "def first_negative_in_window(arr, n, k):\n",
    "    # List to store indices of negative numbers in the current window\n",
    "    neg_indices = []\n",
    "    \n",
    "    # Output list to store the result for each window\n",
    "    result = []\n",
    "    \n",
    "    # Process the first window of size k\n",
    "    for i in range(k):\n",
    "        if arr[i] < 0:\n",
    "            neg_indices.append(i)\n",
    "    \n",
    "    #print(neg_indices)\n",
    "    # For each window starting from index k to n\n",
    "    for i in range(k, n):\n",
    "        # Print the first negative number for the current window\n",
    "        if neg_indices:\n",
    "            result.append(arr[neg_indices[0]])\n",
    "        else:\n",
    "            result.append(0)\n",
    "        \n",
    "        # Remove elements from the list which are out of the window\n",
    "        while neg_indices and neg_indices[0] <= i - k:\n",
    "            neg_indices.pop(0)\n",
    "        \n",
    "        # Add the current element if it is negative\n",
    "        if arr[i] < 0:\n",
    "            neg_indices.append(i)\n",
    "    \n",
    "    # Print the first negative number for the last window\n",
    "    if neg_indices:\n",
    "        result.append(arr[neg_indices[0]])\n",
    "    else:\n",
    "        result.append(0)\n",
    "    \n",
    "    # Print the result\n",
    "    print(\" \".join(map(str, result)))\n",
    "\n",
    "\n",
    "# Input Reading\n",
    "n = int(input())  # Size of the array\n",
    "arr = list(map(int, input().split()))  # Array elements\n",
    "k = int(input())  # Window size\n",
    "\n",
    "# Call the function\n",
    "first_negative_in_window(arr, n, k)\n"
   ]
  },
  {
   "cell_type": "code",
   "execution_count": null,
   "metadata": {},
   "outputs": [
    {
     "name": "stdout",
     "output_type": "stream",
     "text": [
      " neg_indices after Poping 1\n",
      " neg_indices after appending 1 2\n",
      " neg_indices after Poping 2\n",
      " neg_indices after appending 2 3\n",
      " neg_indices after Poping 3\n",
      " neg_indices after appending 3 4\n",
      " neg_indices after Poping 4\n",
      " neg_indices after appending 4 5\n",
      " neg_indices after Poping 5\n",
      " neg_indices after appending 5 6\n",
      " neg_indices after Poping 6\n",
      " neg_indices after appending 6 7\n",
      " neg_indices after Poping 7\n",
      " neg_indices after appending 7 8\n",
      "1 2 3 4 5 6 7 8\n"
     ]
    }
   ],
   "source": [
    "# Array Programming Problem 6\n",
    "def first_zero_in_window(arr, n, k):\n",
    "    # List to store indices of negative numbers in the current window\n",
    "    neg_indices = []\n",
    "    \n",
    "    # Output list to store the result for each window\n",
    "    result = []\n",
    "    \n",
    "    # Process the first window of size k\n",
    "    for i in range(k):\n",
    "        if arr[i] == 0:\n",
    "            neg_indices.append(i)\n",
    "    \n",
    "    #print(neg_indices)\n",
    "    # For each window starting from index k to n\n",
    "    for i in range(k, n):\n",
    "        # Print the first negative number for the current window\n",
    "        if neg_indices:\n",
    "            result.append(neg_indices[0]+1)\n",
    "        else:\n",
    "            result.append(-1)\n",
    "        \n",
    "        # Remove elements from the list which are out of the window\n",
    "        while neg_indices and neg_indices[0] <= i - k:\n",
    "            neg_indices.pop(0)\n",
    "            #print(f\" neg_indices after Poping {\" \".join(map(str, neg_indices))}\")\n",
    "        \n",
    "        # Add the current element if it is negative\n",
    "        if arr[i] == 0:\n",
    "            neg_indices.append(i)\n",
    "            #print(f\" neg_indices after appending {\" \".join(map(str, neg_indices))}\")\n",
    "    \n",
    "    # Print the first negative number for the last window\n",
    "    if neg_indices:\n",
    "        result.append(neg_indices[0]+1)\n",
    "    else:\n",
    "        result.append(-1)\n",
    "    \n",
    "    # Print the result\n",
    "    print(\" \".join(map(str, result)))\n",
    "\n",
    "\n",
    "# Input Reading\n",
    "var = list(map(int, input().split())) \n",
    "n = var[0]  # Size of the array\n",
    "w = var[1]  # Window size\n",
    "arr = list(map(int, input().split()))  # Array elements\n",
    "\n",
    "\n",
    "# Call the function\n",
    "first_zero_in_window(arr, n, w)\n"
   ]
  },
  {
   "cell_type": "code",
   "execution_count": 23,
   "metadata": {},
   "outputs": [
    {
     "name": "stdout",
     "output_type": "stream",
     "text": [
      "3 4 5 6 7 8\n",
      "6\n"
     ]
    },
    {
     "ename": "TypeError",
     "evalue": "sequence item 0: expected str instance, int found",
     "output_type": "error",
     "traceback": [
      "\u001b[1;31m---------------------------------------------------------------------------\u001b[0m",
      "\u001b[1;31mTypeError\u001b[0m                                 Traceback (most recent call last)",
      "Cell \u001b[1;32mIn[23], line 5\u001b[0m\n\u001b[0;32m      3\u001b[0m a \u001b[38;5;241m=\u001b[39m l\u001b[38;5;241m.\u001b[39mpop(\u001b[38;5;241m3\u001b[39m)\n\u001b[0;32m      4\u001b[0m \u001b[38;5;28mprint\u001b[39m(a)\n\u001b[1;32m----> 5\u001b[0m \u001b[38;5;28mprint\u001b[39m(\u001b[38;5;124;43m\"\u001b[39;49m\u001b[38;5;124;43m \u001b[39;49m\u001b[38;5;124;43m\"\u001b[39;49m\u001b[38;5;241;43m.\u001b[39;49m\u001b[43mjoin\u001b[49m\u001b[43m(\u001b[49m\u001b[43ml\u001b[49m\u001b[43m)\u001b[49m)\n",
      "\u001b[1;31mTypeError\u001b[0m: sequence item 0: expected str instance, int found"
     ]
    }
   ],
   "source": [
    "l = [3,4,5,6,7,8]\n",
    "print(\" \".join(map(str, l)))\n",
    "a = l.pop(3)\n",
    "print(a)\n",
    "print(\" \".join(map(str, l)))"
   ]
  },
  {
   "cell_type": "code",
   "execution_count": null,
   "metadata": {},
   "outputs": [
    {
     "data": {
      "text/plain": [
       "2"
      ]
     },
     "execution_count": 11,
     "metadata": {},
     "output_type": "execute_result"
    }
   ],
   "source": [
    "# Array Programming Problem 7\n",
    "def PrintRepeatedTwiceNumber(n, arr):\n",
    "    dict1 = {}\n",
    "    \n",
    "    for i in arr:\n",
    "        if i not in dict1:\n",
    "            dict1[i] = 1\n",
    "        else:\n",
    "            dict1[i] += 1\n",
    "        \n",
    "    key = next((k for k, v in dict1.items() if v == 2), None)\n",
    "\n",
    "    return key\n",
    "\n",
    "n = int(input())\n",
    "arr = list(map(int, input().split()))\n",
    "\n",
    "print(PrintRepeatedTwiceNumber(n, arr))"
   ]
  },
  {
   "cell_type": "code",
   "execution_count": 18,
   "metadata": {},
   "outputs": [
    {
     "name": "stdout",
     "output_type": "stream",
     "text": [
      "3\n"
     ]
    }
   ],
   "source": [
    "# Array Programming Problem 8\n",
    "def calculate_trapped_water(n, heights):\n",
    "    # If the number of walls is less than 3, no water can be trapped\n",
    "    if n < 3:\n",
    "        return 0\n",
    "\n",
    "    # Arrays to store the maximum height to the left and right of each index\n",
    "    left_max = [0] * n\n",
    "    right_max = [0] * n\n",
    "    \n",
    "    \n",
    "    # Fill the left_max array\n",
    "    left_max[0] = heights[0]\n",
    "    for i in range(1, n):\n",
    "        left_max[i] = max(left_max[i-1], heights[i])\n",
    "            \n",
    "    \n",
    "    # Fill the right_max array\n",
    "    right_max[n-1] = heights[n-1]\n",
    "    for i in range(n-2, -1, -1):\n",
    "        right_max[i] = max(right_max[i+1], heights[i])\n",
    "          \n",
    "    \n",
    "    # Calculate the total water trapped\n",
    "    water_trapped = 0\n",
    "    for i in range(n):\n",
    "        # Water trapped at index i is the minimum of left_max and right_max at i minus the height at i\n",
    "        water_trapped += min(left_max[i], right_max[i]) - heights[i]\n",
    "    \n",
    "    return water_trapped\n",
    "\n",
    "# Input\n",
    "n = int(input())  # Number of walls\n",
    "heights = list(map(int, input().split()))  # List of wall heights\n",
    "\n",
    "# Calculate and output the result\n",
    "result = calculate_trapped_water(n, heights)\n",
    "print(result)\n"
   ]
  },
  {
   "cell_type": "code",
   "execution_count": 34,
   "metadata": {},
   "outputs": [
    {
     "name": "stdout",
     "output_type": "stream",
     "text": [
      "[1, 1, 2, 3]\n"
     ]
    }
   ],
   "source": [
    "# Array Programming Problem 9\n",
    "def SortFrequency(n, arr):\n",
    "    arr.sort()\n",
    "    repeatedEle = []\n",
    "    repeat = arr[0]\n",
    "    for i in arr:\n",
    "        if (i == repeat and i not in repeatedEle):\n",
    "            repeatedEle.append(i)\n",
    "        else:\n",
    "            repeat = i\n",
    "        \n",
    "    for i in range(len(repeatedEle)):\n",
    "        for j in range(arr.count(i)):\n",
    "            arr.remove(j)\n",
    "\n",
    "        \n",
    "    print(arr)\n",
    "    # arr.extend(repeatedEle)\n",
    "    # print(arr)\n",
    "    \n",
    "\n",
    "n = int(input())\n",
    "arr = list(map(int, input().split()))\n",
    "SortFrequency(n, arr)"
   ]
  },
  {
   "cell_type": "markdown",
   "metadata": {},
   "source": [
    "Need to Check the below code "
   ]
  },
  {
   "cell_type": "code",
   "execution_count": null,
   "metadata": {},
   "outputs": [
    {
     "name": "stdout",
     "output_type": "stream",
     "text": [
      "Counter({1: 2, 3: 1, 2: 1})\n"
     ]
    },
    {
     "ename": "TypeError",
     "evalue": "sort() takes no positional arguments",
     "output_type": "error",
     "traceback": [
      "\u001b[1;31m---------------------------------------------------------------------------\u001b[0m",
      "\u001b[1;31mTypeError\u001b[0m                                 Traceback (most recent call last)",
      "Cell \u001b[1;32mIn[44], line 20\u001b[0m\n\u001b[0;32m     17\u001b[0m arr \u001b[38;5;241m=\u001b[39m \u001b[38;5;28mlist\u001b[39m(\u001b[38;5;28mmap\u001b[39m(\u001b[38;5;28mint\u001b[39m, \u001b[38;5;28minput\u001b[39m()\u001b[38;5;241m.\u001b[39msplit()))  \u001b[38;5;66;03m# List of integers\u001b[39;00m\n\u001b[0;32m     19\u001b[0m \u001b[38;5;66;03m# Call the function to sort and print the result\u001b[39;00m\n\u001b[1;32m---> 20\u001b[0m \u001b[43msort_by_frequency\u001b[49m\u001b[43m(\u001b[49m\u001b[43mn\u001b[49m\u001b[43m,\u001b[49m\u001b[43m \u001b[49m\u001b[43marr\u001b[49m\u001b[43m)\u001b[49m\n",
      "Cell \u001b[1;32mIn[44], line 9\u001b[0m, in \u001b[0;36msort_by_frequency\u001b[1;34m(n, arr)\u001b[0m\n\u001b[0;32m      6\u001b[0m \u001b[38;5;28mprint\u001b[39m(freq)\n\u001b[0;32m      8\u001b[0m \u001b[38;5;66;03m# Sort the elements first by frequency, then by element value\u001b[39;00m\n\u001b[1;32m----> 9\u001b[0m sorted_arr \u001b[38;5;241m=\u001b[39m \u001b[43marr\u001b[49m\u001b[38;5;241;43m.\u001b[39;49m\u001b[43msort\u001b[49m\u001b[43m(\u001b[49m\u001b[43marr\u001b[49m\u001b[43m,\u001b[49m\u001b[43m \u001b[49m\u001b[43mkey\u001b[49m\u001b[38;5;241;43m=\u001b[39;49m\u001b[38;5;28;43;01mlambda\u001b[39;49;00m\u001b[43m \u001b[49m\u001b[43mx\u001b[49m\u001b[43m:\u001b[49m\u001b[43m \u001b[49m\u001b[43m(\u001b[49m\u001b[43mfreq\u001b[49m\u001b[43m[\u001b[49m\u001b[43mx\u001b[49m\u001b[43m]\u001b[49m\u001b[43m,\u001b[49m\u001b[43m \u001b[49m\u001b[43mx\u001b[49m\u001b[43m)\u001b[49m\u001b[43m)\u001b[49m\n\u001b[0;32m     11\u001b[0m \u001b[38;5;28mprint\u001b[39m(sorted_arr)\n",
      "\u001b[1;31mTypeError\u001b[0m: sort() takes no positional arguments"
     ]
    }
   ],
   "source": [
    "from collections import Counter\n",
    "\n",
    "def sort_by_frequency(n, arr):\n",
    "    # Count the frequency of each element\n",
    "    freq = Counter(arr)\n",
    "    print(freq)\n",
    "    \n",
    "    # Sort the elements first by frequency, then by element value\n",
    "    sorted_arr = sorted(arr, key=lambda x: (freq[x], x))\n",
    "    \n",
    "    \n",
    "    print(sorted_arr)\n",
    "    # Print the result\n",
    "    #print(\" \".join(map(str, sorted_arr)))\n",
    "\n",
    "# Input\n",
    "n = int(input())  # Size of the array\n",
    "arr = list(map(int, input().split()))  # List of integers\n",
    "\n",
    "# Call the function to sort and print the result\n",
    "sort_by_frequency(n, arr)\n"
   ]
  },
  {
   "cell_type": "code",
   "execution_count": 45,
   "metadata": {},
   "outputs": [
    {
     "name": "stdout",
     "output_type": "stream",
     "text": [
      "[1, 1, 1, 3, 3, 13, 13]\n",
      "1 3 13\n"
     ]
    }
   ],
   "source": [
    "def sort_by_frequency(n, arr):\n",
    "    arr.sort()\n",
    "    print(arr)\n",
    "    frequency = []\n",
    "    dict1 = {}\n",
    "    for i in arr:\n",
    "        if i not in dict1:\n",
    "            dict1[i] = 1\n",
    "        else:\n",
    "            dict1[i] += 1\n",
    "    \n",
    "    for i , j in dict1.items():\n",
    "        if(j <= 1):\n",
    "            frequency.append(i)\n",
    "\n",
    "    for i , j in dict1.items():\n",
    "        if(j > 1):\n",
    "            frequency.append(i)\n",
    "    \n",
    "    return frequency\n",
    "    \n",
    "    return arr\n",
    "    # Print the result\n",
    "    #print(\" \".join(map(str, arr)))\n",
    "\n",
    "# Input\n",
    "n = 7 #int(input())  # Size of the array\n",
    "arr = [1, 1,13, 13, 1, 3, 3] # list(map(int, input().split()))  # List of integers\n",
    "\n",
    "# Call the function to sort and print the result\n",
    "\n",
    "print(\" \".join(map(str, sort_by_frequency(n, arr))))"
   ]
  },
  {
   "cell_type": "code",
   "execution_count": 19,
   "metadata": {},
   "outputs": [
    {
     "name": "stdout",
     "output_type": "stream",
     "text": [
      "dict_items([('name', '123'), ('userId', '321'), ('psswd', '123321')])\n"
     ]
    }
   ],
   "source": [
    "dict1 = {\"name\":\"123\", \"userId\":\"321\", \"psswd\":\"123321\" }\n",
    "x = dict1.items()\n",
    "print(x)"
   ]
  },
  {
   "cell_type": "code",
   "execution_count": 31,
   "metadata": {},
   "outputs": [
    {
     "name": "stdout",
     "output_type": "stream",
     "text": [
      "['VW', 'BMW', 'Ford', 'Mitsubishi']\n"
     ]
    }
   ],
   "source": [
    "def myFunc(e):\n",
    "  return len(e)\n",
    "\n",
    "cars = ['Ford', 'Mitsubishi', 'BMW', 'VW']\n",
    "\n",
    "cars.sort(key=myFunc)\n",
    "print(cars)"
   ]
  },
  {
   "cell_type": "code",
   "execution_count": null,
   "metadata": {},
   "outputs": [
    {
     "name": "stdout",
     "output_type": "stream",
     "text": [
      "A23 B56 C79 D16\n"
     ]
    }
   ],
   "source": [
    "# Array Programming Problem 10\n",
    "def DuplicatePasswordRemover(n, arr):\n",
    "    uniquePassport = []\n",
    "    for i in arr:\n",
    "        if i not in uniquePassport:\n",
    "            uniquePassport.append(i)\n",
    "        \n",
    "        \n",
    "    return uniquePassport\n",
    "\n",
    "n = int(input())\n",
    "arr = input().split()\n",
    "\n",
    "print(\" \".join(DuplicatePasswordRemover(n, arr)))"
   ]
  },
  {
   "cell_type": "code",
   "execution_count": 74,
   "metadata": {},
   "outputs": [
    {
     "name": "stdout",
     "output_type": "stream",
     "text": [
      "1 5\n"
     ]
    }
   ],
   "source": [
    "# Array Programming Problem 11\n",
    "def FindOddNumber(n):\n",
    "    oddNo = []\n",
    "    for i in n:\n",
    "        if(int(i) % 2 !=0):\n",
    "            oddNo.append(i)\n",
    "\n",
    "    if not oddNo:\n",
    "        oddNo.append(-1)\n",
    "\n",
    "    return oddNo\n",
    "\n",
    "n = input()\n",
    "print(\" \".join(map(str, FindOddNumber(n))))"
   ]
  },
  {
   "cell_type": "code",
   "execution_count": null,
   "metadata": {},
   "outputs": [
    {
     "name": "stdout",
     "output_type": "stream",
     "text": [
      "[23, 15, 16]\n",
      "[357, 65, 10]\n",
      "[357, 65, 10]\n",
      "15 16 23 357 65 10\n"
     ]
    }
   ],
   "source": [
    "# Array Programming Problem 14\n",
    "def MergeArray(arr1, arr2):\n",
    "    arr1.sort()\n",
    "    arr2.sort(reverse=True)\n",
    "    \n",
    "    arr1.extend(arr2)\n",
    "\n",
    "    return arr1\n",
    "\n",
    "n = input()\n",
    "arr1 = list(map(int, input().split()))\n",
    "arr2 = list(map(int, input().split()))\n",
    "\n",
    "print(\" \".join(map(str, MergeArray(arr1, arr2))))"
   ]
  },
  {
   "cell_type": "code",
   "execution_count": 15,
   "metadata": {},
   "outputs": [
    {
     "name": "stdout",
     "output_type": "stream",
     "text": [
      "3 3\n",
      "11\n"
     ]
    }
   ],
   "source": [
    "# Array Programming Problem 16\n",
    "def RemoveDuplicate(arr):\n",
    "    \n",
    "    for i in range(len(arr)):\n",
    "        if i < len(arr)-1:\n",
    "            if arr[i] == arr[i+1]:\n",
    "                arr.pop(i)\n",
    "                arr.pop(i)\n",
    "                \n",
    "        \n",
    "        \n",
    "    return arr\n",
    "        \n",
    "\n",
    "arr = list(map(int, input()))\n",
    "print(\"\".join(map(str, RemoveDuplicate(arr))))"
   ]
  },
  {
   "cell_type": "code",
   "execution_count": null,
   "metadata": {},
   "outputs": [
    {
     "name": "stdout",
     "output_type": "stream",
     "text": [
      "131\n"
     ]
    }
   ],
   "source": [
    "def remove_adjacent_duplicates(digits):\n",
    "    result = []\n",
    "    sameNo = digits[0]\n",
    "    \n",
    "    # Traverse the string of digits\n",
    "    for digit in digits:\n",
    "        if result and result[-1] == digit:\n",
    "            sameNo = digit\n",
    "            continue  # Skip if the current digit is the same as the last one in result\n",
    "        result.append(digit)\n",
    "    \n",
    "    # If the result is empty, print -1\n",
    "    if not result:\n",
    "        print(-1)\n",
    "    else:\n",
    "        # Print the result as a string\n",
    "        print(''.join(result))\n",
    "\n",
    "# Input reading\n",
    "digits = input().strip()  # Read the string of digits\n",
    "\n",
    "# Call the function to process the digits\n",
    "remove_adjacent_duplicates(digits)\n"
   ]
  },
  {
   "cell_type": "code",
   "execution_count": 21,
   "metadata": {},
   "outputs": [
    {
     "name": "stdout",
     "output_type": "stream",
     "text": [
      "1 9 3 44 6\n"
     ]
    }
   ],
   "source": [
    "# Array Programming Problem 17\n",
    "def ArrangeEvenIndices(n, arr):\n",
    "    temp = arr[0]\n",
    "    for i in range(n-1):\n",
    "        for j in range(i+1, n):\n",
    "            if(i%2 ==0 and j%2 ==0):\n",
    "                if(arr[j] < arr[i]):\n",
    "                    temp = arr[j]\n",
    "                    arr[j] = arr[i]\n",
    "                    arr[i] = temp\n",
    "\n",
    "    return arr\n",
    "\n",
    "n = int(input())\n",
    "arr = list(map(int, input().split()))\n",
    "print(\" \".join(map(str, ArrangeEvenIndices(n, arr))))"
   ]
  },
  {
   "cell_type": "code",
   "execution_count": 23,
   "metadata": {},
   "outputs": [
    {
     "name": "stdout",
     "output_type": "stream",
     "text": [
      "12 98 1 2 3 5 8 9 11\n"
     ]
    }
   ],
   "source": [
    "# Array Programming Problem 18\n",
    "n = int(input())\n",
    "size = 0\n",
    "arr = []\n",
    "resultArr = []\n",
    "for i in range(n):\n",
    "    size = int(input())\n",
    "    arr = list(map(int, input().split()))\n",
    "    arr.sort()\n",
    "    resultArr.extend(arr)\n",
    "\n",
    "print(\" \".join(map(str, resultArr)))\n"
   ]
  },
  {
   "cell_type": "code",
   "execution_count": 33,
   "metadata": {},
   "outputs": [
    {
     "name": "stdout",
     "output_type": "stream",
     "text": [
      "11\n"
     ]
    }
   ],
   "source": [
    "# Array Programming Problem 19\n",
    "def SortArrray(arr1, arr2):\n",
    "    arr1.extend(arr2)\n",
    "    arr1.sort()\n",
    "    l = len(arr1)\n",
    "    return arr1[l//2] + arr1[(l//2) -1]\n",
    "\n",
    "\n",
    "n = int(input())\n",
    "arr1 = list(map(int, input().split()))\n",
    "arr2 = list(map(int, input().split()))\n",
    "\n",
    "print(SortArrray(arr1, arr2))"
   ]
  },
  {
   "cell_type": "code",
   "execution_count": 37,
   "metadata": {},
   "outputs": [
    {
     "name": "stdout",
     "output_type": "stream",
     "text": [
      "1\n"
     ]
    }
   ],
   "source": [
    "# Array Programming Problem 20\n",
    "def MinimumOfArray(arr):\n",
    "    small = arr[0]\n",
    "    for i in arr:\n",
    "        if small > i:\n",
    "            small = i\n",
    "\n",
    "    return small\n",
    "\n",
    "n = int(input())\n",
    "arr = list(map(int, input().split()))\n",
    "print(MinimumOfArray(arr))"
   ]
  },
  {
   "cell_type": "code",
   "execution_count": 40,
   "metadata": {},
   "outputs": [
    {
     "name": "stdout",
     "output_type": "stream",
     "text": [
      "Avengers EndGame InfinityWar\n"
     ]
    }
   ],
   "source": [
    "# Array Programming Problem 21\n",
    "def SortLexicographically(arr):\n",
    "    arr.sort()\n",
    "    return arr\n",
    "\n",
    "n = int(input())\n",
    "arr = list(input().split())\n",
    "print(\" \".join(SortLexicographically(arr)))"
   ]
  },
  {
   "cell_type": "code",
   "execution_count": 79,
   "metadata": {},
   "outputs": [
    {
     "name": "stdout",
     "output_type": "stream",
     "text": [
      "varshini\n",
      "Karthik\n",
      "rohan\n"
     ]
    }
   ],
   "source": [
    "# Array Programming Problem 22\n",
    "def SortEmployees(n, arr):\n",
    "    employess = {}\n",
    "    employessSorted = []\n",
    "    salary = []\n",
    "    for i in range(n*2):\n",
    "        if( i%2 == 0):\n",
    "            employess[arr[i]] = arr[i+1]\n",
    "            \n",
    "    for j in employess.values():\n",
    "        salary.append(int(j))\n",
    "\n",
    "    salary.sort()\n",
    "    for i in salary:\n",
    "        keys = [key for key, val in employess.items() if val == str(i)]\n",
    "        employessSorted.append(\"\".join(keys))\n",
    "    \n",
    "    return employessSorted\n",
    "\n",
    "n = int(input())\n",
    "arr = list(input().split())\n",
    "\n",
    "print(\"\\n\".join(SortEmployees(n, arr)))"
   ]
  },
  {
   "cell_type": "code",
   "execution_count": 76,
   "metadata": {},
   "outputs": [
    {
     "name": "stdout",
     "output_type": "stream",
     "text": [
      "varshini\n",
      "Karthik\n",
      "rohan\n"
     ]
    }
   ],
   "source": [
    "salary = []\n",
    "person = []\n",
    "dict1 = {'Karthik': '23000', 'rohan': '81734', 'varshini': '12343'}\n",
    "for j in dict1.values():\n",
    "        salary.append(int(j))\n",
    "salary.sort()\n",
    "for i in salary:\n",
    "    # keys = [key for key, val in dict1.items() if val == str(i)]\n",
    "    keys = list(filter(lambda key: dict1[key] == str(i), dict1))\n",
    "    person.append(\"\".join(keys))\n",
    "\n",
    "\n",
    "print('\\n'.join(map(str, person)))\n"
   ]
  },
  {
   "cell_type": "code",
   "execution_count": 127,
   "metadata": {},
   "outputs": [
    {
     "name": "stdout",
     "output_type": "stream",
     "text": [
      "46\n"
     ]
    }
   ],
   "source": [
    "# Array Programming Problem 23\n",
    "def DuplicatePrisoners(n, arr):\n",
    "    dict1 = {}\n",
    "    duplicate = []\n",
    "    for i in range(n):\n",
    "        if arr[i] not in dict1:\n",
    "            dict1[arr[i]] = 1\n",
    "            \n",
    "        else:\n",
    "            dict1[arr[i]] = dict1.get(arr[i],0) + 1\n",
    "            \n",
    "\n",
    "   \n",
    "    for key, value in dict1.items():\n",
    "        if(value > 1):\n",
    "            duplicate.append(key)\n",
    "    return duplicate\n",
    "\n",
    "n = int(input())\n",
    "arr = list(map(int, input().split()))\n",
    "\n",
    "#DuplicatePrisoners(n, arr)\n",
    "print(\" \".join(map(str, DuplicatePrisoners(n, arr))))\n",
    "\n"
   ]
  },
  {
   "cell_type": "code",
   "execution_count": 133,
   "metadata": {},
   "outputs": [
    {
     "name": "stdout",
     "output_type": "stream",
     "text": [
      "0\n"
     ]
    }
   ],
   "source": [
    "dict2= {1: 1, 65: 1, 89: 1, 78: 1, 46: 1}\n",
    "print((dict2.get(3,0)))"
   ]
  },
  {
   "cell_type": "code",
   "execution_count": 150,
   "metadata": {},
   "outputs": [
    {
     "name": "stdout",
     "output_type": "stream",
     "text": [
      "2 1\n"
     ]
    }
   ],
   "source": [
    "# Array Programming Problem 24\n",
    "def LeastRepeatedNo(n, arr):\n",
    "    dict1 = {}\n",
    "    for i in arr:\n",
    "        if i not in dict1:\n",
    "            dict1[i] = 1\n",
    "        else:\n",
    "            dict1[i] += 1\n",
    "\n",
    "    sortedarr = []\n",
    "    sortedarr.extend(dict1.values())\n",
    "    least = min(sortedarr)\n",
    "    leastrepeated = []\n",
    "    for key, value in dict1.items():\n",
    "        if(value == least):\n",
    "            leastrepeated.append(key)\n",
    "\n",
    "    leastrepeated.sort(reverse=True)\n",
    "    return leastrepeated\n",
    "        \n",
    "\n",
    "n = int(input())\n",
    "arr = list(map(int, input().split()))\n",
    "LeastRepeatedNo(n, arr)\n",
    "print(\" \".join(map(str, LeastRepeatedNo(n, arr))))\n",
    "\n",
    "\n"
   ]
  },
  {
   "cell_type": "code",
   "execution_count": null,
   "metadata": {},
   "outputs": [
    {
     "name": "stdout",
     "output_type": "stream",
     "text": [
      "3 4 2 0 1\n"
     ]
    }
   ],
   "source": [
    "# Array Programming Problem 25\n",
    "def RearrangeArray(n, arr):\n",
    "    rearranged = []\n",
    "    for i in range(n):\n",
    "        rearranged.append(arr[arr[i]])\n",
    "    return rearranged\n",
    "\n",
    "n = int(input())\n",
    "arr = list(map(int, input().split()))\n",
    "\n",
    "print(\" \".join(map(str, RearrangeArray(n, arr))))"
   ]
  },
  {
   "cell_type": "code",
   "execution_count": 158,
   "metadata": {},
   "outputs": [
    {
     "name": "stdout",
     "output_type": "stream",
     "text": [
      "1\n"
     ]
    }
   ],
   "source": [
    "# Array Programming Problem 26\n",
    "def MajesticArray(n, arr):\n",
    "    firstSum = 0\n",
    "    lastSum = 0\n",
    "    for i in range(0, 3):\n",
    "        firstSum += arr[i]\n",
    "\n",
    "    for j in range(n-1, n-4, -1):\n",
    "        lastSum += arr[j]\n",
    "\n",
    "    if firstSum == lastSum:\n",
    "        return 1\n",
    "    else : \n",
    "        return 0\n",
    "    \n",
    "n = int(input())\n",
    "arr = list(map(int, input().split()))\n",
    "\n",
    "print(MajesticArray(n, arr))\n",
    "\n"
   ]
  },
  {
   "cell_type": "code",
   "execution_count": 159,
   "metadata": {},
   "outputs": [
    {
     "name": "stdout",
     "output_type": "stream",
     "text": [
      "0\n"
     ]
    }
   ],
   "source": [
    "# Array Programming Problem 28\n",
    "def Repeatation(n, k, arr):\n",
    "    repeatedK = 0\n",
    "    for i in arr:\n",
    "        if(i == k):\n",
    "            repeatedK += 1\n",
    "        \n",
    "    if(repeatedK == 0):\n",
    "        return -1\n",
    "    else:\n",
    "        return repeatedK-1\n",
    "    \n",
    "arr1 = list(map(int, input().split()))\n",
    "arr2 = list(map(int, input().split()))\n",
    "\n",
    "print(Repeatation(arr1[0], arr1[1], arr2))"
   ]
  },
  {
   "cell_type": "code",
   "execution_count": null,
   "metadata": {},
   "outputs": [
    {
     "name": "stdout",
     "output_type": "stream",
     "text": [
      "[[87, 21, 34]]\n",
      "[[87, 21, 34], [89, 32, 78]]\n",
      "[[87, 21, 34], [89, 32, 78], [12, 23, 45]]\n",
      "[[[87, 21, 34], [89, 32, 78], [12, 23, 45]]]\n",
      "[[87, 21, 34], [89, 32, 78], [12, 23, 45], [1]]\n",
      "[[87, 21, 34], [89, 32, 78], [12, 23, 45], [1], [2]]\n",
      "[[87, 21, 34], [89, 32, 78], [12, 23, 45], [1], [2], [3]]\n",
      "[[[87, 21, 34], [89, 32, 78], [12, 23, 45], [1], [2], [3]], [[87, 21, 34], [89, 32, 78], [12, 23, 45], [1], [2], [3]]]\n",
      "[[87, 21, 34], [89, 32, 78], [12, 23, 45], [1], [2], [3], [1]]\n",
      "[[87, 21, 34], [89, 32, 78], [12, 23, 45], [1], [2], [3], [1], [2]]\n",
      "[[87, 21, 34], [89, 32, 78], [12, 23, 45], [1], [2], [3], [1], [2], [3]]\n",
      "[[[87, 21, 34], [89, 32, 78], [12, 23, 45], [1], [2], [3], [1], [2], [3]], [[87, 21, 34], [89, 32, 78], [12, 23, 45], [1], [2], [3], [1], [2], [3]], [[87, 21, 34], [89, 32, 78], [12, 23, 45], [1], [2], [3], [1], [2], [3]]]\n",
      "[12, 23, 45] [12, 23, 45] [12, 23, 45]\n",
      "[87, 21, 34] [87, 21, 34] [87, 21, 34]\n",
      "[89, 32, 78] [89, 32, 78] [89, 32, 78]\n"
     ]
    }
   ],
   "source": [
    "# Array Programming Problem 29\n",
    "\n",
    "def Sort2DArray(m, n, arr1):\n",
    "    arr2 = []\n",
    "    temp_arr = []\n",
    "    arr3=[]\n",
    "    for i in range(m):\n",
    "        for j in range(n):\n",
    "            arr2.append(arr1[i][j])\n",
    "\n",
    "    arr2.sort()\n",
    "\n",
    "    for i in range(len(arr2)):\n",
    "        temp_arr.append(arr2[i])\n",
    "        if(len(temp_arr) == n):\n",
    "            arr3.append(temp_arr)\n",
    "            temp_arr = []\n",
    "\n",
    "    return arr3\n",
    "\n",
    "# arr1 = [[87, 21, 34], [89, 32, 78], [12, 23, 45]]\n",
    "dim = list(map(int, input().split()))\n",
    "arr1 = []\n",
    "temp_arr = []\n",
    "temp_var = ''\n",
    "\n",
    "for i in range(dim[0]):\n",
    "    for j in range(dim[1]):\n",
    "        temp_var = input()\n",
    "        temp_arr.append(list(map(int, input().split())))\n",
    "        print(temp_arr)\n",
    "    arr1.append(temp_arr)\n",
    "    print(arr1)\n",
    "    \n",
    "for i in Sort2DArray(dim[0], dim[1], arr1):\n",
    "    print(\" \".join(map(str, i)))\n",
    "     \n",
    "\n"
   ]
  },
  {
   "cell_type": "code",
   "execution_count": 25,
   "metadata": {},
   "outputs": [
    {
     "name": "stdout",
     "output_type": "stream",
     "text": [
      "12 21 23\n",
      "32 34 45\n",
      "78 87 89\n"
     ]
    }
   ],
   "source": [
    "arr1 = [[87, 21, 34], [89, 32, 78], [12, 23, 45]]\n",
    "arr2 = []\n",
    "temp_arr = []\n",
    "arr3=[]\n",
    "\n",
    "for i in range(len(arr1)):\n",
    "    for j in range(len(arr1)):\n",
    "        arr2.append(arr1[i][j])\n",
    "\n",
    "arr2.sort()\n",
    "\n",
    "\n",
    "for i in range(len(arr2)):\n",
    "    temp_arr.append(arr2[i])\n",
    "    if(len(temp_arr) == len(arr1)):\n",
    "        arr3.append(temp_arr)\n",
    "        temp_arr = []\n",
    "\n",
    "for i in arr3:\n",
    "        print(\" \".join(map(str, i)))\n",
    "    \n",
    "      \n",
    "\n"
   ]
  },
  {
   "cell_type": "code",
   "execution_count": 21,
   "metadata": {},
   "outputs": [
    {
     "name": "stdout",
     "output_type": "stream",
     "text": [
      "87 89 34 \n",
      "89 32 78 \n",
      "34 78 45 \n"
     ]
    }
   ],
   "source": [
    "arr1 = [[87, 21, 34], [89, 32, 78], [12, 23, 45]]\n",
    "sortedarr = arr1.copy()\n",
    "\n",
    "temp = 0\n",
    "\n",
    "for i in range(3):\n",
    "    for j in range(3):\n",
    "        if(sortedarr[i][j] < arr1[j][i]):\n",
    "            sortedarr[i][j] = arr1[j][i]\n",
    "\n",
    "\n",
    "for i in range(3):\n",
    "    for j in range(3):\n",
    "        print(sortedarr[i][j], end =\" \")\n",
    "    print()\n",
    "#print(\"\\n\".join(map(str, arr1)))\n",
    "\n",
    "\n"
   ]
  },
  {
   "cell_type": "code",
   "execution_count": 1,
   "metadata": {},
   "outputs": [
    {
     "name": "stdout",
     "output_type": "stream",
     "text": [
      "87 21 34 \n",
      "89 32 78 \n",
      "12 23 45 \n"
     ]
    }
   ],
   "source": [
    "arr1 = [[87, 21, 34], [89, 32, 78], [12, 23, 45]]\n",
    "for i in range(3):\n",
    "    for j in range(3):\n",
    "        print(arr1[i][j], end =\" \")\n",
    "    print()\n",
    "\n",
    "# Iterate through each sublist in arr1\n",
    "# for sublist in arr1:\n",
    "#     # Print the elements of the sublist, joined by a space\n",
    "#     print(f\"{\" \".join(map(str, sublist))}\")"
   ]
  },
  {
   "cell_type": "code",
   "execution_count": 180,
   "metadata": {},
   "outputs": [
    {
     "name": "stdout",
     "output_type": "stream",
     "text": [
      "hello world\n"
     ]
    }
   ],
   "source": [
    "# Array Programming Problem 30\n",
    "s = input()\n",
    "print(s)"
   ]
  },
  {
   "cell_type": "code",
   "execution_count": 83,
   "metadata": {},
   "outputs": [
    {
     "name": "stdout",
     "output_type": "stream",
     "text": [
      "60 58"
     ]
    }
   ],
   "source": [
    "# Array Programming Problem 30\n",
    "def ListOperation(n):\n",
    "    i = 1\n",
    "    queryList = []\n",
    "    firstValue = True\n",
    "    a = 0\n",
    "    \n",
    "    while(i <= n):\n",
    "        o = list(map(int, input().split()))\n",
    "        if(o[0] == 1):\n",
    "            queryList.append(o[1])\n",
    "            \n",
    "        if(o[0] == 2):\n",
    "            if(queryList):\n",
    "                if(firstValue):\n",
    "                    firstValue = False\n",
    "                    a = f\"{min(queryList)}\"\n",
    "                else:\n",
    "                    a = f\" {min(queryList)}\"\n",
    "                print(a, end=\"\")\n",
    "            else:\n",
    "                firstValue = False\n",
    "                print(-1, end=\"\")\n",
    "        i+=1\n",
    "\n",
    "n = int(input())\n",
    "ListOperation(n)"
   ]
  },
  {
   "cell_type": "code",
   "execution_count": 82,
   "metadata": {},
   "outputs": [
    {
     "name": "stdout",
     "output_type": "stream",
     "text": [
      "0 1 2 3 4 5 6 7 8 9"
     ]
    }
   ],
   "source": [
    "for i in range(10):\n",
    "    if(i == 0):\n",
    "        a = f\"{i}\"\n",
    "    else:\n",
    "        a = f\" {i}\"\n",
    "\n",
    "    #print(a.rstrip('+'), end=\"+\")\n",
    "    #print(\"+\".join(map(str, a)), end=\"\")\n",
    "    print(a, end=\"\")\n",
    "\n",
    "#print(\"apple\", \"banana\", \"cherry\", sep=\"+ \", end=\"--\")\n",
    "\n",
    "    "
   ]
  },
  {
   "cell_type": "code",
   "execution_count": 2,
   "metadata": {},
   "outputs": [
    {
     "name": "stdout",
     "output_type": "stream",
     "text": [
      "81\n"
     ]
    }
   ],
   "source": [
    "# Array Programming Problem 32\n",
    "def PowerOf(a,b):\n",
    "    return a**b\n",
    "\n",
    "userInput = list(map(int, input().split()))\n",
    "print(PowerOf(userInput[0], userInput[1]))\n",
    "\n"
   ]
  },
  {
   "cell_type": "code",
   "execution_count": 5,
   "metadata": {},
   "outputs": [
    {
     "name": "stdout",
     "output_type": "stream",
     "text": [
      "1\n",
      "1 1 1\n",
      "1 1 1 1 1\n",
      "1 1 1 1 1 1 1\n",
      "1 1 1 1 1 1 1 1 1\n"
     ]
    }
   ],
   "source": [
    "# Array Programming Problem 33\n",
    "\n",
    "def RightAngledTriangle(n):\n",
    "    one = '1'\n",
    "    for i in range(1, n+1):\n",
    "        print(\" \".join(one))\n",
    "        one += '1'+'1'\n",
    "\n",
    "RightAngledTriangle(int(input()))"
   ]
  },
  {
   "cell_type": "code",
   "execution_count": null,
   "metadata": {},
   "outputs": [
    {
     "data": {
      "text/plain": [
       "29"
      ]
     },
     "execution_count": 9,
     "metadata": {},
     "output_type": "execute_result"
    }
   ],
   "source": [
    "# Array Programming Problem 34\n",
    "def SumOfDigits(num):\n",
    "    add = 0\n",
    "    for i in num:\n",
    "        add += i**2\n",
    "\n",
    "    return add\n",
    "\n",
    "n = list(map(int, input()))\n",
    "print(SumOfDigits(n))\n"
   ]
  },
  {
   "cell_type": "code",
   "execution_count": null,
   "metadata": {},
   "outputs": [
    {
     "name": "stdout",
     "output_type": "stream",
     "text": [
      "1\n",
      "2\n",
      "yes\n"
     ]
    }
   ],
   "source": [
    "# Array Programming Problem 35\n",
    "def IfExists(value, l):\n",
    "    for i in l:\n",
    "        if(i == value):\n",
    "            return 'yes'\n",
    "    \n",
    "    return 'no'\n",
    "\n",
    "value = list(map(int, input().split()))\n",
    "l = list(map(int, input().split()))\n",
    "\n",
    "print(IfExists(value[1], l))\n",
    "    "
   ]
  },
  {
   "cell_type": "code",
   "execution_count": 14,
   "metadata": {},
   "outputs": [
    {
     "name": "stdout",
     "output_type": "stream",
     "text": [
      "96\n"
     ]
    }
   ],
   "source": [
    "# Array Programming Problem 36\n",
    "def HighestMarks(marks):\n",
    "    highest = marks[0]\n",
    "    for i in marks:\n",
    "        if(i > highest):\n",
    "            highest = i\n",
    "\n",
    "    return highest\n",
    "\n",
    "l = int(input())\n",
    "marks = list(map(int, input().split()))\n",
    "\n",
    "print(HighestMarks(marks))"
   ]
  },
  {
   "cell_type": "code",
   "execution_count": null,
   "metadata": {},
   "outputs": [
    {
     "name": "stdout",
     "output_type": "stream",
     "text": [
      "2\n"
     ]
    }
   ],
   "source": [
    "# Array Programming Problem 37\n",
    "def SinglyOccuring(l, arr):\n",
    "    dict1 = {}\n",
    "    singly =[]\n",
    "    for i in arr:\n",
    "        if i not in dict1:\n",
    "            dict1[i] = 1\n",
    "        else:\n",
    "            dict1[i] += 1\n",
    "        \n",
    "\n",
    "    for k, v in dict1.items():\n",
    "        if v == 1:\n",
    "            singly.append(k)\n",
    "\n",
    "    return singly\n",
    "\n",
    "\n",
    "\n",
    "    # key = next((k for k, v in dict1.items() if v > 1), None)\n",
    "    # print(key)\n",
    "\n",
    "l = int(input())\n",
    "arr = list(map(int, input().split()))\n",
    "\n",
    "print(\" \".join(map(str, SinglyOccuring(l, arr))))\n"
   ]
  },
  {
   "cell_type": "code",
   "execution_count": null,
   "metadata": {},
   "outputs": [
    {
     "name": "stdout",
     "output_type": "stream",
     "text": [
      "he*lo\n"
     ]
    }
   ],
   "source": [
    "# Array Programming Problem 38\n",
    "def ManipulateString(strarr):\n",
    "    m = len(str)//2\n",
    "\n",
    "    strarr[m] = '*'\n",
    "\n",
    "    if(len(str)%2 ==0):\n",
    "        strarr[m-1] = '*'\n",
    "        \n",
    "    return strarr\n",
    "\n",
    "str = list(input())\n",
    "print(\"\".join(ManipulateString(str)))\n",
    "        \n"
   ]
  },
  {
   "cell_type": "code",
   "execution_count": null,
   "metadata": {},
   "outputs": [],
   "source": [
    "# Array Programming Problem 39 same as Problem 37"
   ]
  },
  {
   "cell_type": "code",
   "execution_count": 95,
   "metadata": {},
   "outputs": [
    {
     "name": "stdout",
     "output_type": "stream",
     "text": [
      "[1985, 1995, 2005]\n",
      "1985\n",
      "1995\n",
      "2005\n"
     ]
    }
   ],
   "source": [
    "# Array Programming Problem 40\n",
    "def RolingChange(l, years, parties):\n",
    "    dict1 = {}\n",
    "    sortedDict1 = {}\n",
    "    for i in range(l):\n",
    "        dict1[years[i]] = parties[i]\n",
    "\n",
    "    yearsWon = sorted(dict1.keys())\n",
    "    \n",
    "\n",
    "    for i in range(len(yearsWon)):\n",
    "        sortedDict1[yearsWon[i]] = dict1[yearsWon[i]]\n",
    "\n",
    "    \n",
    "    firstParty = sortedDict1[yearsWon[0]]\n",
    "    changeYear = []\n",
    "\n",
    "    for k, v in sortedDict1.items():\n",
    "        if(v != firstParty):\n",
    "            firstParty = v\n",
    "            changeYear.append(k)\n",
    "            \n",
    "\n",
    "    return changeYear\n",
    "\n",
    "\n",
    "l = int(input())\n",
    "years = list(map(int, input().split()))\n",
    "parties = input().split()\n",
    "\n",
    "for i in RolingChange(l, years, parties):\n",
    "    print(i)\n"
   ]
  },
  {
   "cell_type": "code",
   "execution_count": null,
   "metadata": {},
   "outputs": [],
   "source": [
    "# Array Programming Problem 41"
   ]
  },
  {
   "cell_type": "code",
   "execution_count": 29,
   "metadata": {},
   "outputs": [
    {
     "name": "stdout",
     "output_type": "stream",
     "text": [
      "0\n"
     ]
    }
   ],
   "source": [
    "# Array Programming Problem 42\n",
    "\n",
    "def SumOfNegativeArray(arr):\n",
    "    add = 0\n",
    "    for i in arr:\n",
    "        if(i < 0):\n",
    "            add += i\n",
    "\n",
    "    return add\n",
    "\n",
    "n = int(input())\n",
    "arr = list(map(int, input().split()))\n",
    "\n",
    "print(SumOfNegativeArray(arr))\n"
   ]
  },
  {
   "cell_type": "code",
   "execution_count": 32,
   "metadata": {},
   "outputs": [
    {
     "name": "stdout",
     "output_type": "stream",
     "text": [
      "Dealer0\n"
     ]
    }
   ],
   "source": [
    "# Array Programming Problem 43\n",
    "def bestPhonePrice(n, arr):\n",
    "    minPrice = arr[0]\n",
    "    dealer = \"Dealer0\"\n",
    "\n",
    "    for i in range(n):\n",
    "        if(minPrice >  arr[i]):\n",
    "            minPrice = arr[i]\n",
    "            dealer = f\"Dealer{i}\"\n",
    "\n",
    "    return dealer\n",
    "\n",
    "n = int(input())\n",
    "arr = list(map(int, input().split()))\n",
    "\n",
    "print(bestPhonePrice(n, arr))"
   ]
  },
  {
   "cell_type": "code",
   "execution_count": 35,
   "metadata": {},
   "outputs": [
    {
     "name": "stdout",
     "output_type": "stream",
     "text": [
      "9\n"
     ]
    }
   ],
   "source": [
    "# Array Programming Problem 44\n",
    "def SecondHighest(n, arr):\n",
    "    arr.sort()\n",
    "    return arr[n-2]\n",
    "\n",
    "n = int(input())\n",
    "arr = list(map(int, input().split()))\n",
    "\n",
    "print(SecondHighest(n, arr))"
   ]
  },
  {
   "cell_type": "code",
   "execution_count": 52,
   "metadata": {},
   "outputs": [
    {
     "name": "stdout",
     "output_type": "stream",
     "text": [
      "Non Matching Values  2\n",
      "Non Matching Values  3\n",
      "Non Matching Values  4\n",
      "Matching values 4\n",
      "Matching values 4\n",
      "Non Matching Values  5\n",
      "Non Matching Values  6\n",
      "Matching values 6\n",
      "[4, 4, 6]\n",
      "[2]\n"
     ]
    }
   ],
   "source": [
    "# Array Programming Problem 45\n",
    "def MaxFrequency(n, arr):\n",
    "    count = 0\n",
    "    value = arr[0]\n",
    "    freq = []\n",
    "    freqcount = []\n",
    "\n",
    "    for i in range(1, n):\n",
    "        if(value != arr[i]):\n",
    "            print(\"Non Matching Values \", arr[i])\n",
    "            value = arr[i]\n",
    "            if(count > 0):\n",
    "                freqcount.append(count)\n",
    "            count = 0\n",
    "        else:\n",
    "            print(\"Matching values\", arr[i])\n",
    "            count += 1\n",
    "            if(count >= 1):\n",
    "                freq.append(arr[i])\n",
    "\n",
    "    freqcount.sort()\n",
    "    maxcount = freqcount[len(freqcount)-1]\n",
    "\n",
    "    print(freq)\n",
    "    print(freqcount)\n",
    "\n",
    "    # return freq[maxcount]\n",
    "\n",
    "n = 9\n",
    "arr = [1, 2, 3, 4, 4, 4, 5, 6, 6, 7, 8, 8, 8]\n",
    "\n",
    "MaxFrequency(n, arr)\n",
    "\n",
    "# print()\n",
    "\n",
    "        \n"
   ]
  },
  {
   "cell_type": "code",
   "execution_count": 1,
   "metadata": {},
   "outputs": [
    {
     "name": "stdout",
     "output_type": "stream",
     "text": [
      "in loop  2 1 1\n",
      "in condition  2 3 3\n",
      "in loop  3 3 3\n",
      "in condition  3 6 6\n",
      "in loop  -2 6 6\n",
      "in loop  5 6 4\n",
      "in condition  5 11 9\n",
      "11\n"
     ]
    }
   ],
   "source": [
    "# Array Programming Problem 46\n",
    "def MaxSumOfArray(n, arr):\n",
    "    addition = arr[0]\n",
    "    subAdd = arr[0]\n",
    "\n",
    "    for i in range(1, n):\n",
    "        print(\"in loop \", arr[i], addition, subAdd)\n",
    "        subAdd += arr[i]\n",
    "        if(addition < subAdd):\n",
    "            addition += arr[i]\n",
    "            print(\"in condition \",arr[i],  addition, subAdd)\n",
    "\n",
    "    return addition\n",
    "\n",
    "n = 5 #int(input())\n",
    "\n",
    "arr = [1, 2, 3, -2, 5] #list(map(int, input().split()))\n",
    "\n",
    "print(MaxSumOfArray(n, arr))"
   ]
  },
  {
   "cell_type": "code",
   "execution_count": 81,
   "metadata": {},
   "outputs": [
    {
     "name": "stdout",
     "output_type": "stream",
     "text": [
      "41 45\n",
      "58 61\n",
      "[6, 4]\n"
     ]
    },
    {
     "data": {
      "text/plain": [
       "[6, 4]"
      ]
     },
     "execution_count": 81,
     "metadata": {},
     "output_type": "execute_result"
    }
   ],
   "source": [
    "arr1 = [95, 68, 62, 58, 55, 41, 30]\n",
    "\n",
    "arr1.sort(reverse=True)\n",
    "arr2 = [45, 61]\n",
    "arr2Indx = []\n",
    "\n",
    "\n",
    "\n",
    "for i in range(len(arr2)):\n",
    "    for j in range(len(arr1)):\n",
    "        if(j < len(arr1)-1):\n",
    "            if(arr1[j] <= arr2[i]):\n",
    "                print(arr[j], arr2[i])\n",
    "                arr.insert(j, arr2[i])\n",
    "                arr2Indx.append(j+1)\n",
    "                break\n",
    "\n",
    "print(arr2Indx)\n",
    "\n",
    "\n",
    "\n"
   ]
  },
  {
   "cell_type": "code",
   "execution_count": null,
   "metadata": {},
   "outputs": [],
   "source": [
    "arr1 = [95, 68, 62, 58, 55, 41, 30]\n",
    "\n",
    "arr1.sort(reverse=True)\n",
    "arr2 = [45, 61]\n",
    "arr2Indx = []\n",
    "\n",
    "\n",
    "\n",
    "for i in range(len(arr2)):\n",
    "    for j in range(len(arr1)):\n",
    "        if(j < len(arr1)-1):\n",
    "            if(arr1[j] <= arr2[i]):\n",
    "                print(arr[j], arr2[i])\n",
    "                arr.insert(j, arr2[i])\n",
    "                arr2Indx.append(j+1)\n",
    "                break\n",
    "\n",
    "print(arr2Indx)\n"
   ]
  },
  {
   "cell_type": "code",
   "execution_count": 8,
   "metadata": {},
   "outputs": [
    {
     "name": "stdout",
     "output_type": "stream",
     "text": [
      "[95, 79, 74, 56, 52, 10]\n",
      "0\n",
      "[]\n",
      "\n"
     ]
    }
   ],
   "source": [
    "# Array Programming Problem 47\n",
    "\n",
    "def InsertingToArray(m, arr1, n, arr2):\n",
    "    arr1.sort(reverse=True)\n",
    "    print(arr1)\n",
    "    arr2Indx = []\n",
    "    for i in range(n):\n",
    "        for j in range(m):\n",
    "            if(j < m-1):\n",
    "                if(arr1[j] <= arr2[i]):\n",
    "                    print(arr1[j], arr2[i])\n",
    "                    arr1.insert(j, arr2[i])\n",
    "                    arr2Indx.append(j+1)\n",
    "                    break\n",
    "    if(len(arr1) != len(arr1)+n):\n",
    "        arr1.extend(arr2)\n",
    "    \n",
    "   \n",
    "    return arr2Indx\n",
    "\n",
    "# m = int(input())\n",
    "# arr1 = list(map(int, input().split()))\n",
    "# n = int(input())\n",
    "# arr2 = list(map(int, input().split()))\n",
    "\n",
    "m = 6\n",
    "arr1 = [95, 79, 74, 56, 52, 10]\n",
    "n = 1\n",
    "arr2 = [9]\n",
    "\n",
    "arrindex = InsertingToArray(m, arr1, n, arr2)\n",
    "print(len(arrindex))\n",
    "print(arrindex)\n",
    "print(\" \".join(map(str, arrindex)))\n",
    "\n"
   ]
  },
  {
   "cell_type": "code",
   "execution_count": null,
   "metadata": {},
   "outputs": [],
   "source": []
  }
 ],
 "metadata": {
  "kernelspec": {
   "display_name": "Python 3",
   "language": "python",
   "name": "python3"
  },
  "language_info": {
   "codemirror_mode": {
    "name": "ipython",
    "version": 3
   },
   "file_extension": ".py",
   "mimetype": "text/x-python",
   "name": "python",
   "nbconvert_exporter": "python",
   "pygments_lexer": "ipython3",
   "version": "3.12.5"
  }
 },
 "nbformat": 4,
 "nbformat_minor": 2
}
