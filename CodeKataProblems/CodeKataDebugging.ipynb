{
 "cells": [
  {
   "cell_type": "code",
   "execution_count": null,
   "metadata": {},
   "outputs": [
    {
     "name": "stdout",
     "output_type": "stream",
     "text": [
      "11\n"
     ]
    }
   ],
   "source": [
    "# Python Debugging Problem 1\n",
    "input_1=input()\n",
    "a,b,x = map(int, input_1.split())\n",
    "\n",
    "y=a*x+b\n",
    "print(y)\n"
   ]
  },
  {
   "cell_type": "code",
   "execution_count": 12,
   "metadata": {},
   "outputs": [
    {
     "name": "stdout",
     "output_type": "stream",
     "text": [
      "11\n"
     ]
    }
   ],
   "source": [
    "# Python Debugging Problem 2\n",
    "n = int(input())\n",
    "list1 = list(map(int,input().split()))\n",
    "list2 = list(map(int,input().split()))\n",
    "list1.extend(list2)\n",
    "list1.sort()\n",
    "# print(list1)\n",
    "middle = len(list1)//2\n",
    "print(f\"{list1[middle-1] + list1[middle]}\")\n"
   ]
  },
  {
   "cell_type": "code",
   "execution_count": 15,
   "metadata": {},
   "outputs": [
    {
     "name": "stdout",
     "output_type": "stream",
     "text": [
      "8\n"
     ]
    }
   ],
   "source": [
    "# Python Debugging Problem 3\n",
    "n=int(input())\n",
    "print(n&n-1)"
   ]
  },
  {
   "cell_type": "code",
   "execution_count": 35,
   "metadata": {},
   "outputs": [
    {
     "name": "stdout",
     "output_type": "stream",
     "text": [
      "john 4\n"
     ]
    }
   ],
   "source": [
    "# Python Debugging Problem 4\n",
    "mylist = list(input().split())\n",
    "mydict = {}\n",
    "anslist = []\n",
    "numlist = []\n",
    "for i in mylist:\n",
    "    if i not in mydict:\n",
    "        mydict[i] = 1\n",
    "    else:\n",
    "        mydict[i] = mydict[i] + 1\n",
    "\n",
    "\n",
    "for i in mydict:\n",
    "    anslist.append(mydict[i])\n",
    "    max_num = max(anslist)\n",
    "    \n",
    "for i in mydict:\n",
    "    if mydict[i]==max_num:\n",
    "        numlist.append(i)\n",
    "        numlist = sorted(numlist)\n",
    "\n",
    "print(numlist[0], max_num)\n",
    "\n"
   ]
  },
  {
   "cell_type": "code",
   "execution_count": null,
   "metadata": {},
   "outputs": [
    {
     "name": "stdout",
     "output_type": "stream",
     "text": [
      "{'name': 3}\n"
     ]
    }
   ],
   "source": [
    "mydict = {}\n",
    "mydict['name'] = 1\n",
    "\n",
    "mydict['name'] += 2\n",
    "my_list = []\n",
    "\n",
    "# Sorting by values using sorted()\n",
    "sorted_dict = dict(sorted(mydict.items(), key=lambda item: item[1]))\n",
    "\n",
    "# Sorting by values in descending order\n",
    "sorted_dict = dict(sorted(mydict.items(), key=lambda item: item[1], reverse=True))\n",
    "\n",
    "# Join the elements with a space (or any other separator) and print\n",
    "print(\" \".join(my_list))\n",
    "\n",
    "\n",
    "print(mydict)"
   ]
  },
  {
   "cell_type": "code",
   "execution_count": 37,
   "metadata": {},
   "outputs": [
    {
     "name": "stdout",
     "output_type": "stream",
     "text": [
      "d e"
     ]
    }
   ],
   "source": [
    "# Python Debugging Problem 5\n",
    "s = input()\n",
    "L1, L2, L3 = [], [],[]\n",
    "\n",
    "for c in s[:] :\n",
    "    if c in L1 :\n",
    "        L2.append(c)\n",
    "    else :\n",
    "        L1.append(c)\n",
    "if L2[::] :\n",
    "    print(*L2,end='')\n",
    "else :\n",
    "    print(-1,end='')\n"
   ]
  },
  {
   "cell_type": "code",
   "execution_count": null,
   "metadata": {},
   "outputs": [
    {
     "name": "stdout",
     "output_type": "stream",
     "text": [
      "d a c\n"
     ]
    }
   ],
   "source": [
    "# Python Debugging Problem 6\n",
    "n=input()\n",
    "\n",
    "\n",
    "l=[]\n",
    "l1=[]\n",
    "l2=[]\n",
    "for i in n:\n",
    "    if i not in l:\n",
    "        l.append(i)\n",
    "    else:\n",
    "        l1.append(i)\n",
    "\n",
    "for i in l:\n",
    "    if i not in l1:\n",
    "        l2.append(i)\n",
    "\n",
    "\n",
    "print(\" \".join(l2))\n"
   ]
  },
  {
   "cell_type": "code",
   "execution_count": 47,
   "metadata": {},
   "outputs": [
    {
     "name": "stdout",
     "output_type": "stream",
     "text": [
      "kohli virat\n"
     ]
    }
   ],
   "source": [
    "# Python Debugging Problem 7\n",
    "n=list(input().split())\n",
    "n.sort()\n",
    "\n",
    "print(\" \".join(n))\n",
    "\n"
   ]
  },
  {
   "cell_type": "code",
   "execution_count": 49,
   "metadata": {},
   "outputs": [
    {
     "name": "stdout",
     "output_type": "stream",
     "text": [
      "17 1 2020\n"
     ]
    }
   ],
   "source": [
    "# Python Debugging Problem 8\n",
    "date=input()\n",
    "dd,mm,yy=date.split(' ')\n",
    "dd=int(dd)\n",
    "mm=int(mm)\n",
    "yy=int(yy)\n",
    "if (mm==1 or mm==3 or mm==5 or mm==7 or mm==8 or mm==10 or mm==12):\n",
    "    max1=31\n",
    "elif(mm==4 or mm==6 or mm==9 or mm==11):\n",
    "    max1=30\n",
    "elif(yy%4==0 and mm==2):\n",
    "    max1=29\n",
    "else:\n",
    "    max1=28\n",
    "if(mm<1 or mm>12):\n",
    "    print(\"Invalid\")\n",
    "elif(dd<1 or dd>max1):\n",
    "    print(\"Invalid\")\n",
    "elif(dd==max1 and mm!=12):\n",
    "    dd=1\n",
    "    mm=mm+1\n",
    "    print(dd,mm,yy)\n",
    "elif(dd==31 and mm==12):\n",
    "    dd=1\n",
    "    mm=1\n",
    "    yy=yy+1\n",
    "    print(dd,mm,yy)\n",
    "else:\n",
    "    dd=dd+1\n",
    "    print(dd,mm,yy)\n"
   ]
  },
  {
   "cell_type": "code",
   "execution_count": 51,
   "metadata": {},
   "outputs": [
    {
     "name": "stdout",
     "output_type": "stream",
     "text": [
      "40.0\n"
     ]
    }
   ],
   "source": [
    "# Python Debugging Problem 9\n",
    "a=float(input())\n",
    "b=int(input())\n",
    "c=float(input())\n",
    "print(round((a*b*c/100),1))\n"
   ]
  },
  {
   "cell_type": "code",
   "execution_count": 53,
   "metadata": {},
   "outputs": [
    {
     "name": "stdout",
     "output_type": "stream",
     "text": [
      "3\n"
     ]
    }
   ],
   "source": [
    "# Python Debugging Problem 10\n",
    "l=list(map(int,input().split()))\n",
    "l.sort()\n",
    "print(l[len(l)-2])"
   ]
  },
  {
   "cell_type": "code",
   "execution_count": 66,
   "metadata": {},
   "outputs": [
    {
     "name": "stdout",
     "output_type": "stream",
     "text": [
      "[[0, 0, 0, 0, 0], [0, 0, 0, 0, 0], [0, 0, 0, 0, 0]]\n",
      "* * * * *\n",
      "*    \n",
      "*    \n"
     ]
    }
   ],
   "source": [
    "# Python Debugging Problem 11\n",
    "n,m=map(int,input().split())\n",
    "l=[[0 for j in range(m)] for i in range(n)]\n",
    "print(l)\n",
    "for i in range(n):\n",
    "    for j in range(m):\n",
    "        if (i == 0) or (j == 0):\n",
    "            l[i][j] = '*'\n",
    "        else:\n",
    "            l[i][j] = \"\"\n",
    "for i in l:\n",
    "    print(\" \".join(i))\n",
    "    \n"
   ]
  },
  {
   "cell_type": "code",
   "execution_count": null,
   "metadata": {},
   "outputs": [
    {
     "name": "stdout",
     "output_type": "stream",
     "text": [
      "curr_max is -1\n",
      "maxsubar is -1\n",
      "curr_max is -2\n",
      "maxsubar is -1\n",
      "curr_max is -3\n",
      "maxsubar is -1\n",
      "curr_max is -3\n",
      "maxsubar is -1\n",
      "-1\n"
     ]
    }
   ],
   "source": [
    "# Python Debugging Problem 12\n",
    "size = int(input())\n",
    "a = list(map(int, input().split()))\n",
    "maxsubar = a[0]\n",
    "curr_max = a[0]\n",
    "for i in range(size):\n",
    "    if(i < size-1):\n",
    "        curr_max = max(a[i], curr_max + a[i+1])\n",
    "\n",
    "    #print(f\"curr_max is {curr_max}\")\n",
    "    maxsubar = max(maxsubar,curr_max)\n",
    "    #print(f\"maxsubar is {maxsubar}\")\n",
    "\n",
    "print(maxsubar)\n"
   ]
  },
  {
   "cell_type": "code",
   "execution_count": null,
   "metadata": {},
   "outputs": [
    {
     "name": "stdout",
     "output_type": "stream",
     "text": [
      "yes\n"
     ]
    }
   ],
   "source": [
    "# Python Debugging Problem 14\n",
    "def checkValidity(a, b, c):\n",
    "    if (a + b <= c) or (a + c <= b)  :\n",
    "        return False\n",
    "    else:\n",
    "        return True\n",
    "    \n",
    "a,b,c = map(int,input().split())\n",
    "\n",
    "if checkValidity(a, b, c):\n",
    "    print(\"yes\")\n",
    "else:\n",
    "    print(\"no\")\n"
   ]
  }
 ],
 "metadata": {
  "kernelspec": {
   "display_name": "Python 3",
   "language": "python",
   "name": "python3"
  },
  "language_info": {
   "codemirror_mode": {
    "name": "ipython",
    "version": 3
   },
   "file_extension": ".py",
   "mimetype": "text/x-python",
   "name": "python",
   "nbconvert_exporter": "python",
   "pygments_lexer": "ipython3",
   "version": "3.12.5"
  }
 },
 "nbformat": 4,
 "nbformat_minor": 2
}
